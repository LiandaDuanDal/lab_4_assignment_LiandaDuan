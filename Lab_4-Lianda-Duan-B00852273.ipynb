{
 "cells": [
  {
   "cell_type": "markdown",
   "metadata": {},
   "source": [
    "# Lab 4 \n",
    "# LIanda Duan\n",
    "# B00852273"
   ]
  },
  {
   "cell_type": "markdown",
   "metadata": {},
   "source": [
    "# HOMEWORK Q1-Q2 & Task1 - Task5"
   ]
  },
  {
   "cell_type": "markdown",
   "metadata": {},
   "source": [
    "# HOMEWORK Q1"
   ]
  },
  {
   "cell_type": "markdown",
   "metadata": {},
   "source": [
    "Modify the previous program to read a word list \n",
    "\n",
    "print all the words in the book that are not in the word list.\n",
    "\n",
    "- How many of them are typos?\n",
    "\n",
    "- How many of them are common words that should be in the word list?\n",
    "\n",
    "- How many of them are obscure?"
   ]
  },
  {
   "cell_type": "code",
   "execution_count": 311,
   "metadata": {},
   "outputs": [],
   "source": [
    "# help(set)"
   ]
  },
  {
   "cell_type": "code",
   "execution_count": 316,
   "metadata": {},
   "outputs": [],
   "source": [
    "#read the word list\n",
    "f_txt = open(\"words.txt\")\n",
    "String_txt = f_txt.read()\n",
    "# to lower_case\n",
    "String_txt = String_txt.lower()\n",
    "\n",
    "\n",
    "list_txt = String_txt.split('\\n')\n",
    "\n"
   ]
  },
  {
   "cell_type": "code",
   "execution_count": 317,
   "metadata": {},
   "outputs": [],
   "source": [
    "# print(list_txt)"
   ]
  },
  {
   "cell_type": "code",
   "execution_count": 318,
   "metadata": {},
   "outputs": [],
   "source": [
    "#read the book and turn the words(lower case) into a list\n",
    "import string\n",
    "book_name = \"ghost_story.txt\"\n",
    "f_txt = open(book_name)\n",
    "String_txt = f_txt.read()\n",
    "import re\n",
    "#Set stop words\n",
    "# filter = ['the', 'a', 'an','and','of','in','The','to','s']\n",
    "filter = []\n",
    "String_txt = re.sub(\"[-0-9-\\n\\s+\\.\\!\\/_,$%^*(+\\\"\\')]+|[+——()【】“”！，。？?、\\&~@#￥%……&*:;（）]\\n+\\r+?\",\" \",String_txt)\n",
    "String_txt = String_txt.lower()\n",
    "# String_txt.replace('?',' ')\n",
    "\n",
    "\n",
    "book_wordlist= String_txt.split(' ')\n",
    "book_wordlist = [_.strip(string.punctuation) for _ in book_wordlist]\n",
    "# for _ in book_wordlist:\n",
    "#     _.strip(string.punctuation)\n",
    "#build a set for the word in the book\n",
    "book_wordset = set(book_wordlist)"
   ]
  },
  {
   "cell_type": "code",
   "execution_count": 319,
   "metadata": {},
   "outputs": [
    {
     "name": "stdout",
     "output_type": "stream",
     "text": [
      "Nunmber of words in the book  100019\n",
      "Nunmber of different words in the book  9476\n"
     ]
    }
   ],
   "source": [
    "print('Nunmber of words in the book ',len(book_wordlist))\n",
    "print('Nunmber of different words in the book ',len(book_wordset))"
   ]
  },
  {
   "cell_type": "code",
   "execution_count": 320,
   "metadata": {},
   "outputs": [
    {
     "name": "stdout",
     "output_type": "stream",
     "text": [
      "Help on built-in function strip:\n",
      "\n",
      "strip(chars=None, /) method of builtins.str instance\n",
      "    Return a copy of the string with leading and trailing whitespace remove.\n",
      "    \n",
      "    If chars is given and not None, remove characters in chars instead.\n",
      "\n"
     ]
    }
   ],
   "source": [
    "help('ss'.strip)"
   ]
  },
  {
   "cell_type": "code",
   "execution_count": 321,
   "metadata": {},
   "outputs": [
    {
     "name": "stdout",
     "output_type": "stream",
     "text": [
      "['karina', 'admirable', 'nash', 'xv', 'emily', 'ouija', 'unpierced', 'exultingly', 'gautier', 'wieland', 'alfred', 'mustn', 'unpolluted', 'château', 'couldn', 'hungarian', 'weehawken', 'stuart', 'ceremoniously', 'algernon', 'untutored', 'untenanted', 'mahogany', 'bloodshot', 'brien', 'thereunto', 'sorque', 'gildas', 'orth', 'anatole', 'r', 'elocutionary', 'incautiously', 'suis', 'saunders', 'ak', 'undreds', 'luxor', 'hadn', 'february', 'lyra', 'concentratedly', 'myla', 'france', 'forgetfulness', 'leonid', 'tellst', 'knowest', 'christians', 'saturnian', 'experienced', 'shan', 'swabian', 'america', 'tipperary', 'cléry', 'indolently', 'brightonboro', 'louise', 'druidical', 'irs', 'exquisitely', 'aquilinity', 'americans', 'fleur', 'tregunc', 'sunrays', 'ebook', 'hummings', 'remembrances', 'm', 'ordinariness', 'richard', 'agincourt', 'majestically', 'undulatory', 'remembrance', 'écus', 'mortuis', 'curiously', 'viz', 'brighton', 'promener', 'bien', 'demoniacal', 'evasively', 'ne', 'malthusian', 'lookest', 'jim', 'crunchings', 'approvingly', 'confidently', 'grenelle', 'buffetings', 'moffat', 'restlessly', 'knickerbocker', 'kerfol', 'unimpaired', 'whomsoever', 'hitchin', 'germany', 'unutterable', 'vienna', 'charitable', 'chante', 'xiv', 'aliveness', 'bulwer', 'eustace', 'saracenic', 'ponderable', 'mitford', 've', 'sommer', 'durand', 'san', 'sigismund', 'stephen', 'unusually', 'apartment', 'neale', 'undiminished', 'melan', 'j', 'london', 'discarnate', 'www', 'kerselec', 'dutton', 'monseigneur', 'perchance', 'wretchedly', 'scarborough', 'ghostliness', 'splashings', 'undeviatingly', 'nora', 'christmas', 'handyside', 'penetrated', 'w', 'gloatest', 'disclaimers', 'tiptoeing', 'naples', 'dirs', 'georgius', 'wesley', 'isn', 'aux', 'irish', 'woom', 'england', 'claire', 'shrillnesses', 'transiently', 'startlingly', 'icelanders', 'sheepishly', 'hammond', 'maire', 'simpkin', 'f', 'abominably', 'christian', 'phantasmagoric', 'knoweth', 'borlsovers', 'boggs', 'shakespeare', 'treacherous', 'l', 'substances', 'april', 'redistribution', 'lui', 'wharton', 'everydayness', 'lancons', 'wilkins', 'tremaine', 'californian', 'unswerving', 'american', 'penetrate', 'catherine', 'apartments', 'horace', 'firelight', 'froissart', 'oughtn', 'groix', 'unacquainted', 'caroline', 'unreleased', 'protagonist', 'iii', 'audaciously', 'je', 'brer', 'glassless', 'irresistibly', 'columbia', 'arabian', 'antediluvian', 'fedderson', 'ph', 'undiscovered', 'rome', 'steele', 'mr', 'hungary', 'jacques', 'rowena', 'fliegende', 'reverently', 'ebooks', 'hoffmanesque', 'lightsome', 'tearfully', 'shanter', 'guebers', 'jeanne', 'saturday', 'eulalie', 'haroun', 'aristide', 'yvonne', 'downloading', 'straubing', 'finistere', 'backwater', 'adrian', 'putnam', 'kendrick', 'samuel', 'englishmen', 'coneal', 'harvey', 'saracen', 'afterglow', 'catullus', 'ducatoons', 'phillpotts', 'lorient', 'downstream', 'harriston', 'wienerwald', 'n', 'aflower', 'delectation', 'revoir', 'longtemps', 'europe', 'freezingly', 'michael', 'didn', 'sundays', 'tuesday', 'parti', 'appleton', 'parbleu', 'grossmith', 'monstrous', 'bretonne', 'howard', 'bihan', 'machen', 'parfit', 'caressingly', 'eden', 'enigmatical', 'grantham', 'il', 'thorndike', 'v', 'ursuline', 'criminally', 'abbé', 'georgian', 'tu', 'g', 'p', 'dr', 'arborea', 'october', 'jamais', 'july', 'cæsar', 'ludgate', 'sümpfe', 'pesth', 'rebecca', 'nourjahad', 'turbulent', 'foamings', 'disclaimer', 'unfathomable', 'leonard', 'quimperle', 'unaccountable', 'leda', 'breathings', 'trevanion', 'james', 'abraham', 'merrit', 'unmentionable', 'breton', 'maupassant', 'fingernails', 'poszóny', 'crowe', 'unfrequently', 'onrushing', 'o', 'bretons', 'questioningly', 'unappeasable', 'bruyere', 'doesn', 'morton', 'rossignol', 'ann', 'gertrude', 'merchantibility', 'aurelius', 'bannalec', 'devitalized', 'cicconetti', 'apatura', 'augustus', 'schopenhauer', 'understandingly', 'neuville', 'disengaged', 'knickerbockers', 'diego', 'sunday', 'curé', 'au', 'hyacinthine', 'falernian', 'trevec', 'adsit', 'judea', 'wilbur', 'edward', 'agitatedly', 'liest', 'turkish', 'h', 'rana', 'c', 'sailcloth', 'disquietude', 'wesleyan', 'séance', 'outspread', 'u', 'gargrave', 'turk', 'robert', 'carpathians', 'decameron', 'y', 'moi', 'st', 'manton', 'undeserved', 'glanvill', 'cupwise', 'aren', 'breastplate', 'castellated', 'glynn', 'connecticut', 'rire', 'callot', 'breathin', 'lys', 'dorothy', 'pridefully', 'hurriedly', 'wraithed', 'francis', 'x', 'ligeia', 'darest', 'trevecs', 'whroom', 'i', 'ii', 'que', 'vi', 'dislikest', 'foolishly', 'vainglorious', 'aumont', 'danube', 'clothesline', 'gustav', 'jacob', 'eloquence', 'tomlinson', 'oubliai', 'inhabitants', 'bordeaux', 'canadian', 'remorsefully', 'online', 'everleigh', 'inasmuch', 'imponderably', 'daren', 'pglaf', 'forebore', 'duxbury', 'thompson', 'george', 'fairbanks', 'grotesquerie', 'aubepine', 'mignonette', 'pityingly', 'incommodes', 'hamilton', 'buddhism', 'bavarian', 'aggravating', 'unexhausted', 'hudson', 'electronically', 'hellow', 'irremovably', 'psychical', 'caliban', 'transcriber', 'meaningly', 'needn', 'messire', 'nonproprietary', 'ronsard', 'musset', 'spain', 'exultation', 'à', 'edgar', 'buda', 'litt', 'business@pglaf', 'delos', 'presbyterian', 'jestingly', 'unwatched', 'closser', 'elementals', 'unhurried', 'cleomenes', 'venice', 'donaueschingen', 'sawest', 'txt', 'petronell', 'pleurer', 'qui', 'quiller', 'mrs', 'antimacassar', 'cadaverously', 'non', 'pg', 'crystalled', 'outwardly', 'garou', 'conyers', 'toi', 'bernard', 'a', 'chippendale', 'charles', 'verulam', 'unrealized', 'hypertext', 'unrecognized', 'homeric', 'despairingly', 'plougastel', 'needlelike', 'frenchman', 'laidlaw', 'greensward', 'shorewards', 'graveclothes', 'bowie', 'blackwood', 'pennifer', 'undisturbed', 'gorgeously', 'egypt', 'edith', 'mississippi', 'hebrews', 'adams', 'fragrance', 'unalloyed', 'confoundedly', 'azrael', 'british', 'où', 'guardedly', 'palpitates', 'insignificance', 'newby', 'dieth', 'gallienne', 'bethrothed', 'rosser', 'chokingly', 'substance', 'plaira', 'nonnes', 'quimper', 'christ', 'johannot', 'knowingly', 'gbnewby@pglaf', 'ashtophet', 'darrel', 'crumblings', 'sensationalists', 'bierce', 'marcus', 'borlsover', 'injustice', 'noiseless', 'defiantly', 'noiselessly', 'belchest', 'hainburg', 'subliminal', 'le', 'mysticism', 'gai', 'elizabeth', 'ashley', 'encouragingly', 'gutenberg', 'theben', 'twasn', 'doré', 'whisperings', 'maupin', 'iv', 'http', 'biribi', 'satan', 'théophile', 'olivia', 'patterings', 'bon', 'tempestuously', 'fundraising', 'martha', 'jubilation', 'mediterranean', 'chevaliers', 'transcendentalism', 'anglis', 'airedale', 'josephine', 'placidity', 'goudon', 'emma', 'improvised', 'gesticulating', 'theresa', 'uttermost', 'unconquerable', 'fischeramend', 'vous', 'shadeless', 'trouvé', 'ceaseless', 'desecrator', 'sanctus', 'plougat', 'benighted', 'gran', 'vanessa', 'stamford', 'hungarians', 'yves', 'sancher', 'lelocard', 'dieu', 'mary', 'jove', 'thenceforward', 'd', 'unhesitatingly', 'll', 'harow', 'mantelpiece', 'lamplight', 'saville', '\\ufeffthe', 'wasn', 'conformation', 'pressburg', 'supernaturalism', 'embroidery', 'max', 'paroisse', 'cadaverous', 'indian', 'waistcoats', 'sainte', 'democritus', 'soisic', 'môme', 'mahmoud', 'falteringly', 'clo', 'untouched', 'imaginings', 'unknowable', 'unforgotten', 'york', 'englishman', 'idolator', 'brittany', 'daniel', 'herbert', 'fontaine', 'co', 'thursday', 'morbihan', 'eastbourne', 'arthur', 'mcbride', 'th', 'bleecker', 'hoffman', 'etc', 'tm', 'skilfully', 'december', 'wouldn', 'devoutest', 'wonderingly', 'revivification', 'bisley', 'unenforceability', 'unproportionably', 'sublimely', 'influenced', 'returneth', 'org', 'johnson', 'believingly', 'saladin', 'sweetbrier', 'teasingly', 'carnuntum', 'countryfolk', 'personified', 'penetrating', 'subsidence', 'january', 'zanoni', 'francisco', 'undeceive', 'e', 'shouldn', 'aloofness', 'andreyev', 'critically', 'gigantically', 'brücke', 'unobserved', 'marie', 'fortin', 'inconsequently', 'delightful', 'admirably', 'asseverated', 'passau', 'sequestration', 'healthily', 'bonum', 'ambrose', 'gobletful', 'lazarus', 'dunbar', 'komorn', 'perseveringly', 'ascii', 'b', 'sidney', 'threadlike', 'brockden', 'searchingly', 'allant', 'sorgue', 'june', 'shopwoman', 'julien', 'unblemished', 'alva', 'aleksandrova', 'inspirest', 'reflectively', 'writhings', 'portin', 'seemest', 'baigné', 'norman', 'athenian', 'coeur', 'bookshelves', 'cracksmen', 'marianne', 'horla', 'enteredst', 'chevalier', 's', 'weren', 'allan', 'stratford', 'lieth', 'poe', 'latin', 'despondently', 'sacristan', 'disapprovingly', 'effulgence', 'frances', 'aime', 'ceaselessly', 'softhearted', 'unaltered', 'fitz', 'belinda', 'gawd', 'appallingly', 'gregory', 'yarmolinsky', 'austria', 'brigham', 'lockwood', 'pertinaciously', 'email', 'flamme', 't', 'grindings', 'rhine', 'ein', 'curseful', 'bayliss', 'levasseur', 'ltd']\n"
     ]
    }
   ],
   "source": [
    "# look for the words not in the word list\n",
    "# counter_not_in_list = 0\n",
    "not_in_recorder = []\n",
    "for word_in_book in book_wordset:\n",
    "    if word_in_book not in list_txt:\n",
    "        not_in_recorder.append(word_in_book)\n",
    "        \n",
    "\n",
    "print(not_in_recorder)\n",
    "# print(len(not_in_recorder))\n"
   ]
  },
  {
   "cell_type": "code",
   "execution_count": 322,
   "metadata": {},
   "outputs": [
    {
     "name": "stdout",
     "output_type": "stream",
     "text": [
      "The number of words not in the word list is  764\n"
     ]
    }
   ],
   "source": [
    "print(\"The number of words not in the word list is \",len(not_in_recorder))"
   ]
  },
  {
   "cell_type": "markdown",
   "metadata": {},
   "source": [
    "#### for checkinig the wrong word, I used a big word list\n",
    "Reference:\n",
    "    https://raw.githubusercontent.com/dwyl/english-words/master/words.txt"
   ]
  },
  {
   "cell_type": "code",
   "execution_count": 323,
   "metadata": {},
   "outputs": [
    {
     "name": "stdout",
     "output_type": "stream",
     "text": [
      "LICENSE                           \u001b[34mmp3_dup_test\u001b[m\u001b[m\r\n",
      "Lab_4-Lianda-Duan-B00852273.ipynb \u001b[34msed_test\u001b[m\u001b[m\r\n",
      "README.md                         words.txt\r\n",
      "\u001b[34mdir_search_root\u001b[m\u001b[m                   words_english_check.txt\r\n",
      "ghost_story.txt\r\n"
     ]
    }
   ],
   "source": [
    "!ls"
   ]
  },
  {
   "cell_type": "code",
   "execution_count": 324,
   "metadata": {},
   "outputs": [
    {
     "name": "stdout",
     "output_type": "stream",
     "text": [
      "466552\n"
     ]
    }
   ],
   "source": [
    "#read the word list\n",
    "words_english_check = open(\"words_english_check.txt\")\n",
    "words_english_check = words_english_check.read()\n",
    "# to lower_case\n",
    "words_english_check = words_english_check.lower()\n",
    "\n",
    "\n",
    "list_words_english_check = words_english_check.split('\\n')\n",
    "print(len(list_words_english_check))"
   ]
  },
  {
   "cell_type": "code",
   "execution_count": 325,
   "metadata": {},
   "outputs": [
    {
     "name": "stdout",
     "output_type": "stream",
     "text": [
      "['xv', 'mustn', 'château', 'weehawken', 'sorque', 'suis', 'undreds', 'hadn', 'concentratedly', 'myla', 'tellst', 'knowest', 'cléry', 'brightonboro', 'tregunc', 'sunrays', 'ebook', 'hummings', 'écus', 'mortuis', 'promener', 'lookest', 'crunchings', 'kerfol', 'hitchin', 'chante', 'www', 'kerselec', 'splashings', 'handyside', 'gloatest', 'dirs', 'shrillnesses', 'simpkin', 'borlsovers', 'lancons', 'oughtn', 'groix', 'brer', 'fedderson', 'fliegende', 'ebooks', 'hoffmanesque', 'shanter', 'guebers', 'straubing', 'coneal', 'ducatoons', 'phillpotts', 'wienerwald', 'longtemps', 'grossmith', 'bretonne', 'bihan', 'parfit', 'abbé', 'jamais', 'cæsar', 'sümpfe', 'pesth', 'nourjahad', 'foamings', 'quimperle', 'breathings', 'trevanion', 'merrit', 'poszóny', 'rossignol', 'merchantibility', 'bannalec', 'cicconetti', 'apatura', 'neuville', 'curé', 'trevec', 'adsit', 'séance', 'gargrave', 'glanvill', 'cupwise', 'rire', 'breathin', 'wraithed', 'darest', 'trevecs', 'whroom', 'dislikest', 'aumont', 'oubliai', 'everleigh', 'pglaf', 'forebore', 'hellow', 'à', 'business@pglaf', 'closser', 'cleomenes', 'donaueschingen', 'sawest', 'petronell', 'pleurer', 'garou', 'verulam', 'hypertext', 'plougastel', 'pennifer', 'où', 'dieth', 'gallienne', 'bethrothed', 'plaira', 'nonnes', 'johannot', 'gbnewby@pglaf', 'ashtophet', 'borlsover', 'belchest', 'hainburg', 'gai', 'theben', 'twasn', 'doré', 'http', 'biribi', 'théophile', 'anglis', 'goudon', 'fischeramend', 'vous', 'trouvé', 'plougat', 'sancher', 'lelocard', 'harow', '\\ufeffthe', 'paroisse', 'soisic', 'môme', 'bleecker', 'devoutest', 'returneth', 'carnuntum', 'brücke', 'passau', 'komorn', 'brockden', 'allant', 'sorgue', 'aleksandrova', 'inspirest', 'writhings', 'portin', 'seemest', 'baigné', 'coeur', 'enteredst', 'lieth', 'gawd', 'yarmolinsky', 'flamme', 'curseful', 'bayliss', 'levasseur']\n",
      "163\n"
     ]
    }
   ],
   "source": [
    "list_might_be_wrong = []\n",
    "for each_not_in in not_in_recorder:\n",
    "    if each_not_in not in list_words_english_check:\n",
    "        list_might_be_wrong.append(each_not_in)\n",
    "        \n",
    "print(list_might_be_wrong)\n",
    "print(len(list_might_be_wrong))"
   ]
  },
  {
   "cell_type": "code",
   "execution_count": 326,
   "metadata": {},
   "outputs": [
    {
     "name": "stdout",
     "output_type": "stream",
     "text": [
      "There are 163 words can be typos or obscure\n"
     ]
    }
   ],
   "source": [
    "print('There are ' +str(len(list_might_be_wrong))+' words can be typos or obscure')"
   ]
  },
  {
   "cell_type": "markdown",
   "metadata": {},
   "source": [
    "# HOMEWORK Q2"
   ]
  },
  {
   "cell_type": "markdown",
   "metadata": {},
   "source": [
    "In a large collection of MP3 files, there may be more than one copy of the same song, \n",
    "\n",
    "stored in different directories or with different file names. \n",
    "\n",
    "The goal of this exercise is to search for duplicates."
   ]
  },
  {
   "cell_type": "code",
   "execution_count": 327,
   "metadata": {},
   "outputs": [],
   "source": [
    "# build the function to compare files \n",
    "# import filecmp\n",
    "# filecmp.cmp('file1.txt', 'file1.txt')"
   ]
  },
  {
   "cell_type": "code",
   "execution_count": 328,
   "metadata": {},
   "outputs": [
    {
     "name": "stdout",
     "output_type": "stream",
     "text": [
      "/Users/lianda_duan/Downloads/lab_4_assignment/ghost_story.txt\n",
      "/Users/lianda_duan/Downloads/lab_4_assignment/.DS_Store\n",
      "/Users/lianda_duan/Downloads/lab_4_assignment/LICENSE\n",
      "/Users/lianda_duan/Downloads/lab_4_assignment/sed_test/from.txt\n",
      "/Users/lianda_duan/Downloads/lab_4_assignment/sed_test/to.txt\n",
      "/Users/lianda_duan/Downloads/lab_4_assignment/mp3_dup_test/.DS_Store\n",
      "/Users/lianda_duan/Downloads/lab_4_assignment/mp3_dup_test/f_3-2.mp3\n",
      "/Users/lianda_duan/Downloads/lab_4_assignment/mp3_dup_test/f_1-1.mp3\n",
      "/Users/lianda_duan/Downloads/lab_4_assignment/mp3_dup_test/f_1.mp3\n",
      "/Users/lianda_duan/Downloads/lab_4_assignment/mp3_dup_test/f_4.mp3\n",
      "/Users/lianda_duan/Downloads/lab_4_assignment/mp3_dup_test/f_2-1.mp3\n",
      "/Users/lianda_duan/Downloads/lab_4_assignment/mp3_dup_test/a_deep_dir/f_3-1.mp3\n",
      "/Users/lianda_duan/Downloads/lab_4_assignment/mp3_dup_test/a_deep_dir/f_1-2.mp3\n",
      "/Users/lianda_duan/Downloads/lab_4_assignment/mp3_dup_test/a_deep_dir/f_2.mp3\n",
      "/Users/lianda_duan/Downloads/lab_4_assignment/mp3_dup_test/a_deep_dir/f_4-1.mp3\n",
      "/Users/lianda_duan/Downloads/lab_4_assignment/mp3_dup_test/a_deep_dir/f_4-2.mp3\n",
      "/Users/lianda_duan/Downloads/lab_4_assignment/README.md\n",
      "/Users/lianda_duan/Downloads/lab_4_assignment/Lab_4-Lianda-Duan-B00852273.ipynb\n",
      "/Users/lianda_duan/Downloads/lab_4_assignment/words_english_check.txt\n",
      "/Users/lianda_duan/Downloads/lab_4_assignment/.ipynb_checkpoints/Lab_4-Lianda-Duan-B00852273-checkpoint.ipynb\n",
      "/Users/lianda_duan/Downloads/lab_4_assignment/words.txt\n",
      "/Users/lianda_duan/Downloads/lab_4_assignment/.git/ORIG_HEAD\n",
      "/Users/lianda_duan/Downloads/lab_4_assignment/.git/config\n",
      "/Users/lianda_duan/Downloads/lab_4_assignment/.git/objects/61/fa76d729b75299adf2cb43b63c1f5fe7281c14\n",
      "/Users/lianda_duan/Downloads/lab_4_assignment/.git/objects/03/79b4d748bb0a41edb7706e1dbcdb8074700f8d\n",
      "/Users/lianda_duan/Downloads/lab_4_assignment/.git/objects/3c/57bd962f1426f6cd74298f40edd52ee51f7558\n",
      "/Users/lianda_duan/Downloads/lab_4_assignment/.git/objects/60/2be21427926bcb1c23c0e465af762a0c1a5bb2\n",
      "/Users/lianda_duan/Downloads/lab_4_assignment/.git/objects/5a/6a8961380fac57ffb082bb481e62a7244e0b23\n",
      "/Users/lianda_duan/Downloads/lab_4_assignment/.git/objects/bb/1ebc1d3c2e8e13f7905fad96e8c65eb5281f2a\n",
      "/Users/lianda_duan/Downloads/lab_4_assignment/.git/objects/f2/88702d2fa16d3cdf0035b15a9fcbc552cd88e7\n",
      "/Users/lianda_duan/Downloads/lab_4_assignment/.git/objects/cf/b8c5c8743b72496f5a7d9c85e51259ac0fd199\n",
      "/Users/lianda_duan/Downloads/lab_4_assignment/.git/objects/ed/64d9f905d3a15e036c760ca472c32c7ede6a9f\n",
      "/Users/lianda_duan/Downloads/lab_4_assignment/.git/objects/ed/5b9a287ff4e7356a9d83c23b950e42966ce9e9\n",
      "/Users/lianda_duan/Downloads/lab_4_assignment/.git/objects/ec/3b73ca838e26fe81f2564bfa621cd87435e6d8\n",
      "/Users/lianda_duan/Downloads/lab_4_assignment/.git/objects/11/64fecb55a461cfe4a7c548c778c06457e1c2d8\n",
      "/Users/lianda_duan/Downloads/lab_4_assignment/.git/objects/80/cbe53e395a1220a8521744d82b0d38b29be7e8\n",
      "/Users/lianda_duan/Downloads/lab_4_assignment/.git/objects/80/5587b9a726133b5674311f1ad7763593f79340\n",
      "/Users/lianda_duan/Downloads/lab_4_assignment/.git/objects/26/72739185fe6e581709c17fc7935349993576a3\n",
      "/Users/lianda_duan/Downloads/lab_4_assignment/.git/objects/6b/543d4aca1c92d03cdb61743b78ab0781f22937\n",
      "/Users/lianda_duan/Downloads/lab_4_assignment/.git/objects/5d/ff32fcabfbc2a36fbef4dfc1127ed3102f3f38\n",
      "/Users/lianda_duan/Downloads/lab_4_assignment/.git/objects/31/f6503f4a90a18f59170138d735fe0cae2c40d5\n",
      "/Users/lianda_duan/Downloads/lab_4_assignment/.git/objects/01/51ce766fc6c5488341b755b775d518ee8597c1\n",
      "/Users/lianda_duan/Downloads/lab_4_assignment/.git/objects/d4/50fe6c26017483205625c01cf11d82bbf63651\n",
      "/Users/lianda_duan/Downloads/lab_4_assignment/.git/objects/ea/9a93f9a570a97f1fa1fe5f29c79f63687f8d7f\n",
      "/Users/lianda_duan/Downloads/lab_4_assignment/.git/objects/2d/096037ea5d06341db44b597077d0656190fbb3\n",
      "/Users/lianda_duan/Downloads/lab_4_assignment/.git/objects/1e/2a0d7ccdd2b48cbcc1c9c2b2400a87005b3701\n",
      "/Users/lianda_duan/Downloads/lab_4_assignment/.git/objects/1e/2fb58fbac1c5eff27c258cc31e140fa980f7a1\n",
      "/Users/lianda_duan/Downloads/lab_4_assignment/.git/objects/4a/0393bc4f4d8799171a12e2e7f7945856571342\n",
      "/Users/lianda_duan/Downloads/lab_4_assignment/.git/objects/4f/b1948ac4f5391920e330b39c060e1012b192ac\n",
      "/Users/lianda_duan/Downloads/lab_4_assignment/.git/objects/15/89300f5c9824942a2ef0d1424e8bb3239122e1\n",
      "/Users/lianda_duan/Downloads/lab_4_assignment/.git/objects/82/41b302f134ffbd19e27f3e6b3918568ea644d2\n",
      "/Users/lianda_duan/Downloads/lab_4_assignment/.git/objects/13/56c2f1da631c0b5ac83a19cf8252a1b791b1be\n",
      "/Users/lianda_duan/Downloads/lab_4_assignment/.git/objects/7f/9c10503c31a539d701c82f42c2be366df6f37d\n",
      "/Users/lianda_duan/Downloads/lab_4_assignment/.git/HEAD\n",
      "/Users/lianda_duan/Downloads/lab_4_assignment/.git/info/exclude\n",
      "/Users/lianda_duan/Downloads/lab_4_assignment/.git/logs/HEAD\n",
      "/Users/lianda_duan/Downloads/lab_4_assignment/.git/logs/refs/heads/master\n",
      "/Users/lianda_duan/Downloads/lab_4_assignment/.git/logs/refs/remotes/origin/master\n",
      "/Users/lianda_duan/Downloads/lab_4_assignment/.git/description\n",
      "/Users/lianda_duan/Downloads/lab_4_assignment/.git/hooks/commit-msg.sample\n",
      "/Users/lianda_duan/Downloads/lab_4_assignment/.git/hooks/pre-rebase.sample\n",
      "/Users/lianda_duan/Downloads/lab_4_assignment/.git/hooks/pre-commit.sample\n",
      "/Users/lianda_duan/Downloads/lab_4_assignment/.git/hooks/applypatch-msg.sample\n",
      "/Users/lianda_duan/Downloads/lab_4_assignment/.git/hooks/fsmonitor-watchman.sample\n",
      "/Users/lianda_duan/Downloads/lab_4_assignment/.git/hooks/pre-receive.sample\n",
      "/Users/lianda_duan/Downloads/lab_4_assignment/.git/hooks/prepare-commit-msg.sample\n",
      "/Users/lianda_duan/Downloads/lab_4_assignment/.git/hooks/post-update.sample\n",
      "/Users/lianda_duan/Downloads/lab_4_assignment/.git/hooks/pre-applypatch.sample\n",
      "/Users/lianda_duan/Downloads/lab_4_assignment/.git/hooks/pre-push.sample\n",
      "/Users/lianda_duan/Downloads/lab_4_assignment/.git/hooks/update.sample\n",
      "/Users/lianda_duan/Downloads/lab_4_assignment/.git/refs/heads/master\n",
      "/Users/lianda_duan/Downloads/lab_4_assignment/.git/refs/remotes/origin/master\n",
      "/Users/lianda_duan/Downloads/lab_4_assignment/.git/index\n",
      "/Users/lianda_duan/Downloads/lab_4_assignment/.git/COMMIT_EDITMSG\n",
      "/Users/lianda_duan/Downloads/lab_4_assignment/.git/FETCH_HEAD\n"
     ]
    }
   ],
   "source": [
    "dir_demo = '/Users/lianda_duan/Downloads/lab_4_assignment'\n",
    "import os\n",
    "file_path_list = []\n",
    "def walk(dirname = dir_demo):\n",
    "    for name in os.listdir(dirname):\n",
    "        path = os.path.join(dirname, name)\n",
    "        if os.path.isfile(path):\n",
    "#             print(path)\n",
    "            file_path_list.append(path)\n",
    "        else:\n",
    "            walk(path)\n",
    "            \n",
    "walk()\n",
    "for _ in file_path_list:\n",
    "    print(_)"
   ]
  },
  {
   "cell_type": "code",
   "execution_count": 329,
   "metadata": {},
   "outputs": [
    {
     "name": "stdout",
     "output_type": "stream",
     "text": [
      "/Users/lianda_duan/Downloads/lab_4_assignment/mp3_dup_test/f_3-2.mp3\n",
      "/Users/lianda_duan/Downloads/lab_4_assignment/mp3_dup_test/f_1-1.mp3\n",
      "/Users/lianda_duan/Downloads/lab_4_assignment/mp3_dup_test/f_1.mp3\n",
      "/Users/lianda_duan/Downloads/lab_4_assignment/mp3_dup_test/f_4.mp3\n",
      "/Users/lianda_duan/Downloads/lab_4_assignment/mp3_dup_test/f_2-1.mp3\n",
      "/Users/lianda_duan/Downloads/lab_4_assignment/mp3_dup_test/a_deep_dir/f_3-1.mp3\n",
      "/Users/lianda_duan/Downloads/lab_4_assignment/mp3_dup_test/a_deep_dir/f_1-2.mp3\n",
      "/Users/lianda_duan/Downloads/lab_4_assignment/mp3_dup_test/a_deep_dir/f_2.mp3\n",
      "/Users/lianda_duan/Downloads/lab_4_assignment/mp3_dup_test/a_deep_dir/f_4-1.mp3\n",
      "/Users/lianda_duan/Downloads/lab_4_assignment/mp3_dup_test/a_deep_dir/f_4-2.mp3\n"
     ]
    }
   ],
   "source": [
    "file_path_list = [i  for i in file_path_list if str(i).split(\"/\")[-1].split(\".\")[-1] == 'mp3']\n",
    "for _ in file_path_list:\n",
    "    print(_)"
   ]
  },
  {
   "cell_type": "code",
   "execution_count": 358,
   "metadata": {},
   "outputs": [
    {
     "name": "stdout",
     "output_type": "stream",
     "text": [
      "{'f_3-2.mp3': [], 'f_1-1.mp3': [], 'f_1.mp3': [], 'f_4.mp3': [], 'f_2-1.mp3': [], 'f_3-1.mp3': [], 'f_1-2.mp3': [], 'f_2.mp3': [], 'f_4-1.mp3': [], 'f_4-2.mp3': []}\n",
      "('f_3-2.mp3', ['f_3-2.mp3', 'f_3-1.mp3']) \n",
      "\n",
      "('f_1-1.mp3', ['f_1-1.mp3', 'f_1.mp3', 'f_1-2.mp3']) \n",
      "\n",
      "('f_1.mp3', ['f_1-1.mp3', 'f_1.mp3', 'f_1-2.mp3']) \n",
      "\n",
      "('f_4.mp3', ['f_4.mp3', 'f_4-1.mp3', 'f_4-2.mp3']) \n",
      "\n",
      "('f_2-1.mp3', ['f_2-1.mp3', 'f_2.mp3']) \n",
      "\n",
      "('f_3-1.mp3', ['f_3-2.mp3', 'f_3-1.mp3']) \n",
      "\n",
      "('f_1-2.mp3', ['f_1-1.mp3', 'f_1.mp3', 'f_1-2.mp3']) \n",
      "\n",
      "('f_2.mp3', ['f_2-1.mp3', 'f_2.mp3']) \n",
      "\n",
      "('f_4-1.mp3', ['f_4.mp3', 'f_4-1.mp3', 'f_4-2.mp3']) \n",
      "\n",
      "('f_4-2.mp3', ['f_4.mp3', 'f_4-1.mp3', 'f_4-2.mp3']) \n",
      "\n"
     ]
    }
   ],
   "source": [
    "#test filecmp.cmp\n",
    "# file_path_list = [i  for i in file_path_list if str(i).split(\"/\")[-1].split(\".\")[-1] == 'mp3']\n",
    "# c_1 = '/Users/lianda_duan/Downloads/lab_4_assignment/mp3_dup_test/a_deep_dir/f_3-1.mp3'\n",
    "# c_2 = '/Users/lianda_duan/Downloads/lab_4_assignment/mp3_dup_test/f_3-2.mp3'\n",
    "# c_3 = '/Users/lianda_duan/Downloads/lab_4_assignment/mp3_dup_test/a_deep_dir/f_4-1.mp3'\n",
    "import filecmp\n",
    "list_check = list(range(len(file_path_list)))\n",
    "# list_check = \n",
    "# [i if i.split(\"/\")[-1]=='mp3' for i in list_check]\n",
    "\n",
    "\n",
    "dup_dic = {}\n",
    "# initialize dic\n",
    "for _ in [_.split(\"/\")[-1] for _ in file_path_list]:\n",
    "    dup_dic[_] = []\n",
    "    \n",
    "print(dup_dic)\n",
    "\n",
    "for index_file_path_be_compared in list_check:\n",
    "#     if index_file_path_be_compared is not len(file_path_list)-2:\n",
    "    for index_file_dest in list_check:\n",
    "        if filecmp.cmp(file_path_list[index_file_path_be_compared], file_path_list[index_file_dest]):\n",
    "            dup_dic[file_path_list[index_file_path_be_compared].split(\"/\")[-1]].append(file_path_list[index_file_dest].split(\"/\")[-1])\n",
    "#                 list_check.pop(index_file_dest)\n",
    "# print(filecmp.cmp(c_1, c_2))\n",
    "# print(filecmp.cmp(c_1, c_3))\n",
    "for _ in dup_dic.items():\n",
    "    print(_,'\\n')\n",
    "# print(dup_dic)"
   ]
  },
  {
   "cell_type": "code",
   "execution_count": 331,
   "metadata": {},
   "outputs": [
    {
     "name": "stdout",
     "output_type": "stream",
     "text": [
      "4\n",
      "[0, 1, 2, 3, 5]\n"
     ]
    }
   ],
   "source": [
    "list_check = list(range(6))\n",
    "print(list_check.pop(4))\n",
    "print(list_check)"
   ]
  },
  {
   "cell_type": "code",
   "execution_count": 332,
   "metadata": {},
   "outputs": [
    {
     "name": "stdout",
     "output_type": "stream",
     "text": [
      "['/Users/lianda_duan/Downloads/lab_4_assignment/mp3_dup_test/f_3-2.mp3', '/Users/lianda_duan/Downloads/lab_4_assignment/mp3_dup_test/f_1-1.mp3', '/Users/lianda_duan/Downloads/lab_4_assignment/mp3_dup_test/f_1.mp3', '/Users/lianda_duan/Downloads/lab_4_assignment/mp3_dup_test/f_4.mp3', '/Users/lianda_duan/Downloads/lab_4_assignment/mp3_dup_test/f_2-1.mp3', '/Users/lianda_duan/Downloads/lab_4_assignment/mp3_dup_test/a_deep_dir/f_3-1.mp3', '/Users/lianda_duan/Downloads/lab_4_assignment/mp3_dup_test/a_deep_dir/f_1-2.mp3', '/Users/lianda_duan/Downloads/lab_4_assignment/mp3_dup_test/a_deep_dir/f_2.mp3', '/Users/lianda_duan/Downloads/lab_4_assignment/mp3_dup_test/a_deep_dir/f_4-1.mp3', '/Users/lianda_duan/Downloads/lab_4_assignment/mp3_dup_test/a_deep_dir/f_4-2.mp3']\n"
     ]
    }
   ],
   "source": [
    "print([i  for i in file_path_list if str(i).split(\"/\")[-1].split(\".\")[-1] == 'mp3'])"
   ]
  },
  {
   "cell_type": "markdown",
   "metadata": {},
   "source": [
    "# Task 1\n",
    "- Write a program that reads a file, \n",
    "\n",
    "- breaks each line into words, \n",
    "\n",
    "- strips whitespace and punctuation from the words,\n",
    "\n",
    "- and converts them to lowercase."
   ]
  },
  {
   "cell_type": "markdown",
   "metadata": {},
   "source": [
    "## Check current dir"
   ]
  },
  {
   "cell_type": "code",
   "execution_count": 333,
   "metadata": {},
   "outputs": [
    {
     "name": "stdout",
     "output_type": "stream",
     "text": [
      "LICENSE                           \u001b[34mmp3_dup_test\u001b[m\u001b[m\r\n",
      "Lab_4-Lianda-Duan-B00852273.ipynb \u001b[34msed_test\u001b[m\u001b[m\r\n",
      "README.md                         words.txt\r\n",
      "\u001b[34mdir_search_root\u001b[m\u001b[m                   words_english_check.txt\r\n",
      "ghost_story.txt\r\n"
     ]
    }
   ],
   "source": [
    "!ls"
   ]
  },
  {
   "cell_type": "markdown",
   "metadata": {},
   "source": [
    "## Read tht Ghost book file and change to lowercase"
   ]
  },
  {
   "cell_type": "code",
   "execution_count": 334,
   "metadata": {},
   "outputs": [],
   "source": [
    "#-*-coding:utf-8-*-\n",
    "#Lianda Duan\n",
    "#B00852273\n",
    "# Open file and get a string of the file word_dal_intro.txt\n",
    "book_name = \"ghost_story.txt\"\n",
    "f_txt = open(book_name)\n",
    "String_txt = f_txt.read()\n",
    "import re\n",
    "#Set stop words\n",
    "filter = ['the', 'a', 'an','and','of','in','The','to','s']\n",
    "# filter = []\n",
    "String_txt = re.sub(\"[\\n\\s+\\.\\!\\/_,$%^*(+\\\"\\')]+|[+——()?【】“”！，。？、\\&~@#￥%……&*:（）]+\\r\",\" \",String_txt)\n",
    "String_txt = String_txt.lower()\n",
    "\n"
   ]
  },
  {
   "cell_type": "markdown",
   "metadata": {},
   "source": [
    "# Task 2:\n",
    "Modify your program from the previous exercise to read the book you downloaded and \n",
    "\n",
    "process the rest of the words as before.\n",
    "\n",
    "- A. Then modify the program to count the total number of words in the book, \n",
    "and the number of times each word is used.\n",
    "- B. print the 20 most frequently-used words in the book.\n",
    "- C. Print the number of different words used in the book\n",
    "\n"
   ]
  },
  {
   "cell_type": "markdown",
   "metadata": {},
   "source": [
    "## - Count the total number of words in the book\n",
    "## - Count the number of times each word is used."
   ]
  },
  {
   "cell_type": "code",
   "execution_count": 335,
   "metadata": {},
   "outputs": [],
   "source": [
    "def most_frequent(string_input):\n",
    "    import string\n",
    "    list_txt = string_input.split(' ')\n",
    "    list_txt = [_.strip(string.punctuation) for _ in list_txt]\n",
    "    dict_count = {}\n",
    "    for _ in list_txt:\n",
    "        if _ not in filter:\n",
    "#         print(_)\n",
    "            dict_count[_] = 0\n",
    "    for _ in list_txt:\n",
    "         if _ not in filter:\n",
    "#         print(_)\n",
    "            dict_count[_] += 1\n",
    "    dict_count_sorted = sorted(dict_count.items(), key=lambda item: item[1],reverse=True)    \n",
    "#     print(dict_count)\n",
    "    return (dict_count,dict_count_sorted)\n",
    "\n",
    "\"\"\"\n",
    "- dictionary_for_word_cloud: a dictionary of words and their frequency in the file.\n",
    "- dict_count_sorted: a List of Tuples, in which the dictionary is sorted. Each tuple is a \"(word, count)\" pair.\n",
    "\"\"\"\n",
    "dictionary_for_word_cloud, dict_count_sorted = most_frequent(String_txt)\n",
    "# most_frequent(String_txt)"
   ]
  },
  {
   "cell_type": "markdown",
   "metadata": {},
   "source": [
    "## - Print the 20 most frequently-used words in the book.\n"
   ]
  },
  {
   "cell_type": "code",
   "execution_count": 336,
   "metadata": {},
   "outputs": [
    {
     "name": "stdout",
     "output_type": "stream",
     "text": [
      "20 most frequently-used words in the book.\n",
      "[('i', 2560), ('it', 1512), ('was', 1400), ('that', 1209), ('he', 1009), ('with', 867), ('my', 739), ('his', 718), ('you', 713), ('had', 711), ('as', 679), ('at', 653), ('for', 634), ('me', 590), ('on', 587), ('but', 559), ('her', 511), ('said', 507), ('not', 501), ('by', 450)]\n"
     ]
    }
   ],
   "source": [
    "list_to_print = dict_count_sorted[0:20]\n",
    "print('20 most frequently-used words in the book.')\n",
    "print(list_to_print)\n",
    "# for _ in range(20):\n",
    "#     print()"
   ]
  },
  {
   "cell_type": "markdown",
   "metadata": {},
   "source": [
    "## -Print the number of different words used in the book"
   ]
  },
  {
   "cell_type": "code",
   "execution_count": 337,
   "metadata": {},
   "outputs": [
    {
     "name": "stdout",
     "output_type": "stream",
     "text": [
      "10167\n"
     ]
    }
   ],
   "source": [
    "print(len(dict_count_sorted))"
   ]
  },
  {
   "cell_type": "markdown",
   "metadata": {},
   "source": [
    "# Task 3\n",
    "The “rank” of a word is its position in a list of words sorted by frequency:\n",
    "the most common word has rank 1,\n",
    "the second most common has rank 2, etc."
   ]
  },
  {
   "cell_type": "markdown",
   "metadata": {},
   "source": [
    "Given that $f = c\\times s^{-r}$"
   ]
  },
  {
   "cell_type": "code",
   "execution_count": 338,
   "metadata": {},
   "outputs": [
    {
     "name": "stdout",
     "output_type": "stream",
     "text": [
      "1000 most frequently-used words in the book.\n"
     ]
    }
   ],
   "source": [
    "list_to_plot = dict_count_sorted[0:500]\n",
    "print('1000 most frequently-used words in the book.')\n",
    "# print(list_to_plot)\n",
    "count_list = [_[1] for _ in list_to_plot]\n"
   ]
  },
  {
   "cell_type": "markdown",
   "metadata": {},
   "source": [
    "if you plot log f versus log r, you should get a straight line with slope −s and intercept log c."
   ]
  },
  {
   "cell_type": "code",
   "execution_count": 339,
   "metadata": {},
   "outputs": [
    {
     "data": {
      "image/png": "[encoded data removed]",
      "text/plain": [
       "<Figure size 432x288 with 1 Axes>"
      ]
     },
     "metadata": {
      "needs_background": "light"
     },
     "output_type": "display_data"
    }
   ],
   "source": [
    "from math import log\n",
    "\n",
    "\n",
    "# def get_log_f(c=1,s=1,r):\n",
    "#     init_list = []\n",
    "#     for _ in r:\n",
    "#         init_list.append(log(c)-s*log(_))\n",
    "#     return init_list\n",
    "\n",
    "\n",
    "def get_f(r,c=1000,s=0.87):\n",
    "    re = []\n",
    "    for _ in r:\n",
    "        re.append(c*pow(_,-s))\n",
    "    return re\n",
    "r = list(range(1,501))\n",
    "f_plot = get_f(r)\n",
    "# f_from_txt = [x for _[]]\n",
    "import matplotlib.pyplot as plt\n",
    "plt.clf()\n",
    "plt.xscale('log') \n",
    "plt.yscale('log') \n",
    "plt.title('graph') \n",
    "plt.xlabel('rank') \n",
    "plt.ylabel('log(f)') \n",
    "plt.grid()\n",
    "plt.plot(r, f_plot)\n",
    "# plt.legend('')\n",
    "plt.plot(r, count_list)\n",
    "plt.show()"
   ]
  },
  {
   "cell_type": "code",
   "execution_count": 340,
   "metadata": {},
   "outputs": [
    {
     "name": "stdout",
     "output_type": "stream",
     "text": [
      "500\n"
     ]
    }
   ],
   "source": [
    "print(len(count_list))"
   ]
  },
  {
   "cell_type": "code",
   "execution_count": 341,
   "metadata": {},
   "outputs": [
    {
     "name": "stdout",
     "output_type": "stream",
     "text": [
      "eatimate s = 0.87\n"
     ]
    }
   ],
   "source": [
    "print(\"eatimate s = \"+str(0.87))"
   ]
  },
  {
   "cell_type": "markdown",
   "metadata": {},
   "source": [
    "# Task 4"
   ]
  },
  {
   "cell_type": "code",
   "execution_count": 342,
   "metadata": {},
   "outputs": [],
   "source": [
    "import os\n",
    "# help(os)"
   ]
  },
  {
   "cell_type": "code",
   "execution_count": 343,
   "metadata": {},
   "outputs": [
    {
     "name": "stdout",
     "output_type": "stream",
     "text": [
      "/Users/lianda_duan/Downloads/lab_4_assignment\r\n"
     ]
    }
   ],
   "source": [
    "!pwd"
   ]
  },
  {
   "cell_type": "code",
   "execution_count": 344,
   "metadata": {},
   "outputs": [
    {
     "name": "stdout",
     "output_type": "stream",
     "text": [
      "/Users/lianda_duan/Downloads/lab_4_assignment/ghost_story.txt\n",
      "/Users/lianda_duan/Downloads/lab_4_assignment/.DS_Store\n",
      "/Users/lianda_duan/Downloads/lab_4_assignment/LICENSE\n",
      "/Users/lianda_duan/Downloads/lab_4_assignment/sed_test/from.txt\n",
      "/Users/lianda_duan/Downloads/lab_4_assignment/sed_test/to.txt\n",
      "/Users/lianda_duan/Downloads/lab_4_assignment/mp3_dup_test/.DS_Store\n",
      "/Users/lianda_duan/Downloads/lab_4_assignment/mp3_dup_test/f_3-2.mp3\n",
      "/Users/lianda_duan/Downloads/lab_4_assignment/mp3_dup_test/f_1-1.mp3\n",
      "/Users/lianda_duan/Downloads/lab_4_assignment/mp3_dup_test/f_1.mp3\n",
      "/Users/lianda_duan/Downloads/lab_4_assignment/mp3_dup_test/f_4.mp3\n",
      "/Users/lianda_duan/Downloads/lab_4_assignment/mp3_dup_test/f_2-1.mp3\n",
      "/Users/lianda_duan/Downloads/lab_4_assignment/mp3_dup_test/a_deep_dir/f_3-1.mp3\n",
      "/Users/lianda_duan/Downloads/lab_4_assignment/mp3_dup_test/a_deep_dir/f_1-2.mp3\n",
      "/Users/lianda_duan/Downloads/lab_4_assignment/mp3_dup_test/a_deep_dir/f_2.mp3\n",
      "/Users/lianda_duan/Downloads/lab_4_assignment/mp3_dup_test/a_deep_dir/f_4-1.mp3\n",
      "/Users/lianda_duan/Downloads/lab_4_assignment/mp3_dup_test/a_deep_dir/f_4-2.mp3\n",
      "/Users/lianda_duan/Downloads/lab_4_assignment/README.md\n",
      "/Users/lianda_duan/Downloads/lab_4_assignment/Lab_4-Lianda-Duan-B00852273.ipynb\n",
      "/Users/lianda_duan/Downloads/lab_4_assignment/words_english_check.txt\n",
      "/Users/lianda_duan/Downloads/lab_4_assignment/.ipynb_checkpoints/Lab_4-Lianda-Duan-B00852273-checkpoint.ipynb\n",
      "/Users/lianda_duan/Downloads/lab_4_assignment/words.txt\n",
      "/Users/lianda_duan/Downloads/lab_4_assignment/.git/ORIG_HEAD\n",
      "/Users/lianda_duan/Downloads/lab_4_assignment/.git/config\n",
      "/Users/lianda_duan/Downloads/lab_4_assignment/.git/objects/61/fa76d729b75299adf2cb43b63c1f5fe7281c14\n",
      "/Users/lianda_duan/Downloads/lab_4_assignment/.git/objects/03/79b4d748bb0a41edb7706e1dbcdb8074700f8d\n",
      "/Users/lianda_duan/Downloads/lab_4_assignment/.git/objects/3c/57bd962f1426f6cd74298f40edd52ee51f7558\n",
      "/Users/lianda_duan/Downloads/lab_4_assignment/.git/objects/60/2be21427926bcb1c23c0e465af762a0c1a5bb2\n",
      "/Users/lianda_duan/Downloads/lab_4_assignment/.git/objects/5a/6a8961380fac57ffb082bb481e62a7244e0b23\n",
      "/Users/lianda_duan/Downloads/lab_4_assignment/.git/objects/bb/1ebc1d3c2e8e13f7905fad96e8c65eb5281f2a\n",
      "/Users/lianda_duan/Downloads/lab_4_assignment/.git/objects/f2/88702d2fa16d3cdf0035b15a9fcbc552cd88e7\n",
      "/Users/lianda_duan/Downloads/lab_4_assignment/.git/objects/cf/b8c5c8743b72496f5a7d9c85e51259ac0fd199\n",
      "/Users/lianda_duan/Downloads/lab_4_assignment/.git/objects/ed/64d9f905d3a15e036c760ca472c32c7ede6a9f\n",
      "/Users/lianda_duan/Downloads/lab_4_assignment/.git/objects/ed/5b9a287ff4e7356a9d83c23b950e42966ce9e9\n",
      "/Users/lianda_duan/Downloads/lab_4_assignment/.git/objects/ec/3b73ca838e26fe81f2564bfa621cd87435e6d8\n",
      "/Users/lianda_duan/Downloads/lab_4_assignment/.git/objects/11/64fecb55a461cfe4a7c548c778c06457e1c2d8\n",
      "/Users/lianda_duan/Downloads/lab_4_assignment/.git/objects/80/cbe53e395a1220a8521744d82b0d38b29be7e8\n",
      "/Users/lianda_duan/Downloads/lab_4_assignment/.git/objects/80/5587b9a726133b5674311f1ad7763593f79340\n",
      "/Users/lianda_duan/Downloads/lab_4_assignment/.git/objects/26/72739185fe6e581709c17fc7935349993576a3\n",
      "/Users/lianda_duan/Downloads/lab_4_assignment/.git/objects/6b/543d4aca1c92d03cdb61743b78ab0781f22937\n",
      "/Users/lianda_duan/Downloads/lab_4_assignment/.git/objects/5d/ff32fcabfbc2a36fbef4dfc1127ed3102f3f38\n",
      "/Users/lianda_duan/Downloads/lab_4_assignment/.git/objects/31/f6503f4a90a18f59170138d735fe0cae2c40d5\n",
      "/Users/lianda_duan/Downloads/lab_4_assignment/.git/objects/01/51ce766fc6c5488341b755b775d518ee8597c1\n",
      "/Users/lianda_duan/Downloads/lab_4_assignment/.git/objects/d4/50fe6c26017483205625c01cf11d82bbf63651\n",
      "/Users/lianda_duan/Downloads/lab_4_assignment/.git/objects/ea/9a93f9a570a97f1fa1fe5f29c79f63687f8d7f\n",
      "/Users/lianda_duan/Downloads/lab_4_assignment/.git/objects/2d/096037ea5d06341db44b597077d0656190fbb3\n",
      "/Users/lianda_duan/Downloads/lab_4_assignment/.git/objects/1e/2a0d7ccdd2b48cbcc1c9c2b2400a87005b3701\n",
      "/Users/lianda_duan/Downloads/lab_4_assignment/.git/objects/1e/2fb58fbac1c5eff27c258cc31e140fa980f7a1\n",
      "/Users/lianda_duan/Downloads/lab_4_assignment/.git/objects/4a/0393bc4f4d8799171a12e2e7f7945856571342\n",
      "/Users/lianda_duan/Downloads/lab_4_assignment/.git/objects/4f/b1948ac4f5391920e330b39c060e1012b192ac\n",
      "/Users/lianda_duan/Downloads/lab_4_assignment/.git/objects/15/89300f5c9824942a2ef0d1424e8bb3239122e1\n",
      "/Users/lianda_duan/Downloads/lab_4_assignment/.git/objects/82/41b302f134ffbd19e27f3e6b3918568ea644d2\n",
      "/Users/lianda_duan/Downloads/lab_4_assignment/.git/objects/13/56c2f1da631c0b5ac83a19cf8252a1b791b1be\n",
      "/Users/lianda_duan/Downloads/lab_4_assignment/.git/objects/7f/9c10503c31a539d701c82f42c2be366df6f37d\n",
      "/Users/lianda_duan/Downloads/lab_4_assignment/.git/HEAD\n",
      "/Users/lianda_duan/Downloads/lab_4_assignment/.git/info/exclude\n",
      "/Users/lianda_duan/Downloads/lab_4_assignment/.git/logs/HEAD\n",
      "/Users/lianda_duan/Downloads/lab_4_assignment/.git/logs/refs/heads/master\n",
      "/Users/lianda_duan/Downloads/lab_4_assignment/.git/logs/refs/remotes/origin/master\n",
      "/Users/lianda_duan/Downloads/lab_4_assignment/.git/description\n",
      "/Users/lianda_duan/Downloads/lab_4_assignment/.git/hooks/commit-msg.sample\n",
      "/Users/lianda_duan/Downloads/lab_4_assignment/.git/hooks/pre-rebase.sample\n",
      "/Users/lianda_duan/Downloads/lab_4_assignment/.git/hooks/pre-commit.sample\n",
      "/Users/lianda_duan/Downloads/lab_4_assignment/.git/hooks/applypatch-msg.sample\n",
      "/Users/lianda_duan/Downloads/lab_4_assignment/.git/hooks/fsmonitor-watchman.sample\n",
      "/Users/lianda_duan/Downloads/lab_4_assignment/.git/hooks/pre-receive.sample\n",
      "/Users/lianda_duan/Downloads/lab_4_assignment/.git/hooks/prepare-commit-msg.sample\n",
      "/Users/lianda_duan/Downloads/lab_4_assignment/.git/hooks/post-update.sample\n",
      "/Users/lianda_duan/Downloads/lab_4_assignment/.git/hooks/pre-applypatch.sample\n",
      "/Users/lianda_duan/Downloads/lab_4_assignment/.git/hooks/pre-push.sample\n",
      "/Users/lianda_duan/Downloads/lab_4_assignment/.git/hooks/update.sample\n",
      "/Users/lianda_duan/Downloads/lab_4_assignment/.git/refs/heads/master\n",
      "/Users/lianda_duan/Downloads/lab_4_assignment/.git/refs/remotes/origin/master\n",
      "/Users/lianda_duan/Downloads/lab_4_assignment/.git/index\n",
      "/Users/lianda_duan/Downloads/lab_4_assignment/.git/COMMIT_EDITMSG\n",
      "/Users/lianda_duan/Downloads/lab_4_assignment/.git/FETCH_HEAD\n"
     ]
    }
   ],
   "source": [
    "dir_demo = '/Users/lianda_duan/Downloads/lab_4_assignment'\n",
    "import os\n",
    "def walk(dirname = dir_demo):\n",
    "    for name in os.listdir(dirname):\n",
    "        path = os.path.join(dirname, name)\n",
    "        if os.path.isfile(path):\n",
    "            print(path)\n",
    "        else:\n",
    "            walk(path)\n",
    "            \n",
    "walk()"
   ]
  },
  {
   "cell_type": "markdown",
   "metadata": {},
   "source": [
    "# Task 5"
   ]
  },
  {
   "cell_type": "code",
   "execution_count": 345,
   "metadata": {},
   "outputs": [
    {
     "name": "stdout",
     "output_type": "stream",
     "text": [
      "LICENSE                           \u001b[34mmp3_dup_test\u001b[m\u001b[m\r\n",
      "Lab_4-Lianda-Duan-B00852273.ipynb \u001b[34msed_test\u001b[m\u001b[m\r\n",
      "README.md                         words.txt\r\n",
      "\u001b[34mdir_search_root\u001b[m\u001b[m                   words_english_check.txt\r\n",
      "ghost_story.txt\r\n"
     ]
    }
   ],
   "source": [
    "!ls"
   ]
  },
  {
   "cell_type": "code",
   "execution_count": 346,
   "metadata": {},
   "outputs": [],
   "source": [
    "# help(open)"
   ]
  },
  {
   "cell_type": "markdown",
   "metadata": {},
   "source": [
    "If an error occurs while opening, reading, writing, or closing files, \n",
    "\n",
    "your program should catch the exception,\n",
    "\n",
    "print an error message, and exit."
   ]
  },
  {
   "cell_type": "code",
   "execution_count": 347,
   "metadata": {},
   "outputs": [
    {
     "name": "stdout",
     "output_type": "stream",
     "text": [
      "The content in from.txt file.\r\n"
     ]
    }
   ],
   "source": [
    "!cat /Users/lianda_duan/Downloads/lab_4_assignment/sed_test/from.txt\n",
    "# !pwd"
   ]
  },
  {
   "cell_type": "code",
   "execution_count": 348,
   "metadata": {},
   "outputs": [
    {
     "name": "stdout",
     "output_type": "stream",
     "text": [
      "The content in from.txt file.\r\n"
     ]
    }
   ],
   "source": [
    "!cat /Users/lianda_duan/Downloads/lab_4_assignment/sed_test/to.txt"
   ]
  },
  {
   "cell_type": "code",
   "execution_count": 349,
   "metadata": {},
   "outputs": [],
   "source": [
    "dir_current = '/Users/lianda_duan/Downloads/lab_4_assignment/sed_test/'\n",
    "file_from = 'from.txt'\n",
    "file_to = 'to.txt'\n",
    "f_from_dir = dir_current+file_from\n",
    "f_to_dir = dir_current+file_to\n",
    "\n",
    "def sed(filename_1,filename_2):\n",
    "    try:\n",
    "        content_file_from = open(filename_1,'r')\n",
    "        content_file_to = open(filename_2,'w')\n",
    "        for each_line_from in content_file_from:\n",
    "            content_file_to.write(each_line_from)\n",
    "        content_file_from.close()\n",
    "        content_file_to.close\n",
    "    except:\n",
    "        print('An error occurs while opening, reading, writing, or closing files.')\n",
    "    \n",
    "\n",
    "sed(f_from_dir,f_to_dir)"
   ]
  },
  {
   "cell_type": "code",
   "execution_count": 350,
   "metadata": {},
   "outputs": [
    {
     "name": "stdout",
     "output_type": "stream",
     "text": [
      "The content in from.txt file.\r\n"
     ]
    }
   ],
   "source": [
    "!cat /Users/lianda_duan/Downloads/lab_4_assignment/sed_test/from.txt"
   ]
  },
  {
   "cell_type": "code",
   "execution_count": 351,
   "metadata": {},
   "outputs": [
    {
     "name": "stdout",
     "output_type": "stream",
     "text": [
      "The content in from.txt file.\r\n"
     ]
    }
   ],
   "source": [
    "!cat /Users/lianda_duan/Downloads/lab_4_assignment/sed_test/to.txt"
   ]
  },
  {
   "cell_type": "code",
   "execution_count": 352,
   "metadata": {},
   "outputs": [],
   "source": [
    "# import sys\n",
    "# print(*sys.argv)"
   ]
  },
  {
   "cell_type": "code",
   "execution_count": 353,
   "metadata": {},
   "outputs": [],
   "source": [
    "# def open_file_try(file_name,file_dir = None):\n",
    "#     file_dir = file_dir+file_name\n",
    "#     f = None\n",
    "#     try:\n",
    "#         f = open(file_dir, 'r', encoding='utf-8')\n",
    "#         print(f.read())\n",
    "#     except FileNotFoundError:\n",
    "#         print('Can not open the file, file '+file_name+' not exist!')\n",
    "#     except LookupError:\n",
    "#         print('Unknown encoding!!')\n",
    "#     except UnicodeDecodeError:\n",
    "#         print('Error when reading file')\n",
    "#     finally:\n",
    "#         if f:\n",
    "#             f.close()"
   ]
  },
  {
   "cell_type": "markdown",
   "metadata": {},
   "source": [
    "# Additional work- the word cloud"
   ]
  },
  {
   "cell_type": "code",
   "execution_count": 354,
   "metadata": {},
   "outputs": [],
   "source": [
    "# import matplotlib.pyplot as plt\n",
    "# plt.clf()\n",
    "# plt.xscale(scale) \n",
    "# plt.yscale(scale) \n",
    "# plt.title(“title string) \n",
    "# plt.xlabel(“label string”) \n",
    "# plt.ylabel(“label, string”) \n",
    "# plt.plot(x-value, y-value) \n",
    "# plt.show()\n"
   ]
  },
  {
   "cell_type": "code",
   "execution_count": 355,
   "metadata": {},
   "outputs": [
    {
     "data": {
      "text/plain": [
       "<matplotlib.image.AxesImage at 0x7fdb502e6f50>"
      ]
     },
     "execution_count": 355,
     "metadata": {},
     "output_type": "execute_result"
    },
    {
     "data": {
      "image/png": "[encoded data removed]",
      "text/plain": [
       "<Figure size 432x288 with 1 Axes>"
      ]
     },
     "metadata": {
      "needs_background": "light"
     },
     "output_type": "display_data"
    }
   ],
   "source": [
    "from PIL import Image\n",
    "from wordcloud import WordCloud\n",
    "import matplotlib.pyplot as plt\n",
    "\n",
    "#The higher the frequence, the larger front size the words will be in.\n",
    "\n",
    "wc = WordCloud(background_color=\"black\",width=3000,height=2000, max_words=50,relative_scaling=0.8,normalize_plurals=False).generate_from_frequencies(dictionary_for_word_cloud)\n",
    "plt.imshow(wc)"
   ]
  },
  {
   "cell_type": "code",
   "execution_count": null,
   "metadata": {},
   "outputs": [],
   "source": []
  }
 ],
 "metadata": {
  "kernelspec": {
   "display_name": "Python 3",
   "language": "python",
   "name": "python3"
  },
  "language_info": {
   "codemirror_mode": {
    "name": "ipython",
    "version": 3
   },
   "file_extension": ".py",
   "mimetype": "text/x-python",
   "name": "python",
   "nbconvert_exporter": "python",
   "pygments_lexer": "ipython3",
   "version": "3.7.4"
  }
 },
 "nbformat": 4,
 "nbformat_minor": 2
}
