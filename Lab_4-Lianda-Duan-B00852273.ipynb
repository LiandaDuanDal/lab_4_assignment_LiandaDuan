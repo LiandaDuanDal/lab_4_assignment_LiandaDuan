{
 "cells": [
  {
   "cell_type": "markdown",
   "metadata": {},
   "source": [
    "# Lab 4 \n",
    "# LIanda Duan\n",
    "# B00852273"
   ]
  },
  {
   "cell_type": "markdown",
   "metadata": {},
   "source": [
    "# HOMEWORK Q1-Q2 & Task1 - Task5"
   ]
  },
  {
   "cell_type": "markdown",
   "metadata": {},
   "source": [
    "# HOMEWORK Q1"
   ]
  },
  {
   "cell_type": "markdown",
   "metadata": {},
   "source": [
    "Modify the previous program to read a word list \n",
    "\n",
    "print all the words in the book that are not in the word list.\n",
    "\n",
    "- How many of them are typos?\n",
    "\n",
    "- How many of them are common words that should be in the word list?\n",
    "\n",
    "- How many of them are obscure?"
   ]
  },
  {
   "cell_type": "code",
   "execution_count": 311,
   "metadata": {},
   "outputs": [],
   "source": [
    "# help(set)"
   ]
  },
  {
   "cell_type": "code",
   "execution_count": 234,
   "metadata": {},
   "outputs": [],
   "source": [
    "#read the word list\n",
    "f_txt = open(\"words.txt\")\n",
    "String_txt = f_txt.read()\n",
    "# to lower_case\n",
    "String_txt = String_txt.lower()\n",
    "\n",
    "\n",
    "list_txt = String_txt.split('\\n')\n",
    "\n"
   ]
  },
  {
   "cell_type": "code",
   "execution_count": 312,
   "metadata": {},
   "outputs": [],
   "source": [
    "# print(list_txt)"
   ]
  },
  {
   "cell_type": "code",
   "execution_count": 236,
   "metadata": {},
   "outputs": [],
   "source": [
    "#read the book and turn the words(lower case) into a list\n",
    "import string\n",
    "book_name = \"ghost_story.txt\"\n",
    "f_txt = open(book_name)\n",
    "String_txt = f_txt.read()\n",
    "import re\n",
    "#Set stop words\n",
    "# filter = ['the', 'a', 'an','and','of','in','The','to','s']\n",
    "filter = []\n",
    "String_txt = re.sub(\"[-0-9-\\n\\s+\\.\\!\\/_,$%^*(+\\\"\\')]+|[+——()【】“”！，。？?、\\&~@#￥%……&*:;（）]\\n+\\r+?\",\" \",String_txt)\n",
    "String_txt = String_txt.lower()\n",
    "# String_txt.replace('?',' ')\n",
    "\n",
    "\n",
    "book_wordlist= String_txt.split(' ')\n",
    "book_wordlist = [_.strip(string.punctuation) for _ in book_wordlist]\n",
    "# for _ in book_wordlist:\n",
    "#     _.strip(string.punctuation)\n",
    "#build a set for the word in the book\n",
    "book_wordset = set(book_wordlist)"
   ]
  },
  {
   "cell_type": "code",
   "execution_count": 247,
   "metadata": {},
   "outputs": [
    {
     "name": "stdout",
     "output_type": "stream",
     "text": [
      "Nunmber of words in the book  100019\n",
      "Nunmber of different words in the book  9476\n"
     ]
    }
   ],
   "source": [
    "print('Nunmber of words in the book ',len(book_wordlist))\n",
    "print('Nunmber of different words in the book ',len(book_wordset))"
   ]
  },
  {
   "cell_type": "code",
   "execution_count": 238,
   "metadata": {},
   "outputs": [
    {
     "name": "stdout",
     "output_type": "stream",
     "text": [
      "Help on built-in function strip:\n",
      "\n",
      "strip(chars=None, /) method of builtins.str instance\n",
      "    Return a copy of the string with leading and trailing whitespace remove.\n",
      "    \n",
      "    If chars is given and not None, remove characters in chars instead.\n",
      "\n"
     ]
    }
   ],
   "source": [
    "help('ss'.strip)"
   ]
  },
  {
   "cell_type": "code",
   "execution_count": 313,
   "metadata": {},
   "outputs": [
    {
     "name": "stdout",
     "output_type": "stream",
     "text": [
      "['karina', 'admirable', 'nash', 'xv', 'emily', 'ouija', 'unpierced', 'exultingly', 'gautier', 'wieland', 'alfred', 'mustn', 'unpolluted', 'château', 'couldn', 'hungarian', 'weehawken', 'stuart', 'ceremoniously', 'algernon', 'untutored', 'untenanted', 'mahogany', 'bloodshot', 'brien', 'thereunto', 'sorque', 'gildas', 'orth', 'anatole', 'r', 'elocutionary', 'incautiously', 'suis', 'saunders', 'ak', 'undreds', 'luxor', 'hadn', 'february', 'lyra', 'concentratedly', 'myla', 'france', 'forgetfulness', 'leonid', 'tellst', 'knowest', 'christians', 'saturnian', 'experienced', 'shan', 'swabian', 'america', 'tipperary', 'cléry', 'indolently', 'brightonboro', 'louise', 'druidical', 'irs', 'exquisitely', 'aquilinity', 'americans', 'fleur', 'tregunc', 'sunrays', 'ebook', 'hummings', 'remembrances', 'm', 'ordinariness', 'richard', 'agincourt', 'majestically', 'undulatory', 'remembrance', 'écus', 'mortuis', 'curiously', 'viz', 'brighton', 'promener', 'bien', 'demoniacal', 'evasively', 'ne', 'malthusian', 'lookest', 'jim', 'crunchings', 'approvingly', 'confidently', 'grenelle', 'buffetings', 'moffat', 'restlessly', 'knickerbocker', 'kerfol', 'unimpaired', 'whomsoever', 'hitchin', 'germany', 'unutterable', 'vienna', 'charitable', 'chante', 'xiv', 'aliveness', 'bulwer', 'eustace', 'saracenic', 'ponderable', 'mitford', 've', 'sommer', 'durand', 'san', 'sigismund', 'stephen', 'unusually', 'apartment', 'neale', 'undiminished', 'melan', 'j', 'london', 'discarnate', 'www', 'kerselec', 'dutton', 'monseigneur', 'perchance', 'wretchedly', 'scarborough', 'ghostliness', 'splashings', 'undeviatingly', 'nora', 'christmas', 'handyside', 'penetrated', 'w', 'gloatest', 'disclaimers', 'tiptoeing', 'naples', 'dirs', 'georgius', 'wesley', 'isn', 'aux', 'irish', 'woom', 'england', 'claire', 'shrillnesses', 'transiently', 'startlingly', 'icelanders', 'sheepishly', 'hammond', 'maire', 'simpkin', 'f', 'abominably', 'christian', 'phantasmagoric', 'knoweth', 'borlsovers', 'boggs', 'shakespeare', 'treacherous', 'l', 'substances', 'april', 'redistribution', 'lui', 'wharton', 'everydayness', 'lancons', 'wilkins', 'tremaine', 'californian', 'unswerving', 'american', 'penetrate', 'catherine', 'apartments', 'horace', 'firelight', 'froissart', 'oughtn', 'groix', 'unacquainted', 'caroline', 'unreleased', 'protagonist', 'iii', 'audaciously', 'je', 'brer', 'glassless', 'irresistibly', 'columbia', 'arabian', 'antediluvian', 'fedderson', 'ph', 'undiscovered', 'rome', 'steele', 'mr', 'hungary', 'jacques', 'rowena', 'fliegende', 'reverently', 'ebooks', 'hoffmanesque', 'lightsome', 'tearfully', 'shanter', 'guebers', 'jeanne', 'saturday', 'eulalie', 'haroun', 'aristide', 'yvonne', 'downloading', 'straubing', 'finistere', 'backwater', 'adrian', 'putnam', 'kendrick', 'samuel', 'englishmen', 'coneal', 'harvey', 'saracen', 'afterglow', 'catullus', 'ducatoons', 'phillpotts', 'lorient', 'downstream', 'harriston', 'wienerwald', 'n', 'aflower', 'delectation', 'revoir', 'longtemps', 'europe', 'freezingly', 'michael', 'didn', 'sundays', 'tuesday', 'parti', 'appleton', 'parbleu', 'grossmith', 'monstrous', 'bretonne', 'howard', 'bihan', 'machen', 'parfit', 'caressingly', 'eden', 'enigmatical', 'grantham', 'il', 'thorndike', 'v', 'ursuline', 'criminally', 'abbé', 'georgian', 'tu', 'g', 'p', 'dr', 'arborea', 'october', 'jamais', 'july', 'cæsar', 'ludgate', 'sümpfe', 'pesth', 'rebecca', 'nourjahad', 'turbulent', 'foamings', 'disclaimer', 'unfathomable', 'leonard', 'quimperle', 'unaccountable', 'leda', 'breathings', 'trevanion', 'james', 'abraham', 'merrit', 'unmentionable', 'breton', 'maupassant', 'fingernails', 'poszóny', 'crowe', 'unfrequently', 'onrushing', 'o', 'bretons', 'questioningly', 'unappeasable', 'bruyere', 'doesn', 'morton', 'rossignol', 'ann', 'gertrude', 'merchantibility', 'aurelius', 'bannalec', 'devitalized', 'cicconetti', 'apatura', 'augustus', 'schopenhauer', 'understandingly', 'neuville', 'disengaged', 'knickerbockers', 'diego', 'sunday', 'curé', 'au', 'hyacinthine', 'falernian', 'trevec', 'adsit', 'judea', 'wilbur', 'edward', 'agitatedly', 'liest', 'turkish', 'h', 'rana', 'c', 'sailcloth', 'disquietude', 'wesleyan', 'séance', 'outspread', 'u', 'gargrave', 'turk', 'robert', 'carpathians', 'decameron', 'y', 'moi', 'st', 'manton', 'undeserved', 'glanvill', 'cupwise', 'aren', 'breastplate', 'castellated', 'glynn', 'connecticut', 'rire', 'callot', 'breathin', 'lys', 'dorothy', 'pridefully', 'hurriedly', 'wraithed', 'francis', 'x', 'ligeia', 'darest', 'trevecs', 'whroom', 'i', 'ii', 'que', 'vi', 'dislikest', 'foolishly', 'vainglorious', 'aumont', 'danube', 'clothesline', 'gustav', 'jacob', 'eloquence', 'tomlinson', 'oubliai', 'inhabitants', 'bordeaux', 'canadian', 'remorsefully', 'online', 'everleigh', 'inasmuch', 'imponderably', 'daren', 'pglaf', 'forebore', 'duxbury', 'thompson', 'george', 'fairbanks', 'grotesquerie', 'aubepine', 'mignonette', 'pityingly', 'incommodes', 'hamilton', 'buddhism', 'bavarian', 'aggravating', 'unexhausted', 'hudson', 'electronically', 'hellow', 'irremovably', 'psychical', 'caliban', 'transcriber', 'meaningly', 'needn', 'messire', 'nonproprietary', 'ronsard', 'musset', 'spain', 'exultation', 'à', 'edgar', 'buda', 'litt', 'business@pglaf', 'delos', 'presbyterian', 'jestingly', 'unwatched', 'closser', 'elementals', 'unhurried', 'cleomenes', 'venice', 'donaueschingen', 'sawest', 'txt', 'petronell', 'pleurer', 'qui', 'quiller', 'mrs', 'antimacassar', 'cadaverously', 'non', 'pg', 'crystalled', 'outwardly', 'garou', 'conyers', 'toi', 'bernard', 'a', 'chippendale', 'charles', 'verulam', 'unrealized', 'hypertext', 'unrecognized', 'homeric', 'despairingly', 'plougastel', 'needlelike', 'frenchman', 'laidlaw', 'greensward', 'shorewards', 'graveclothes', 'bowie', 'blackwood', 'pennifer', 'undisturbed', 'gorgeously', 'egypt', 'edith', 'mississippi', 'hebrews', 'adams', 'fragrance', 'unalloyed', 'confoundedly', 'azrael', 'british', 'où', 'guardedly', 'palpitates', 'insignificance', 'newby', 'dieth', 'gallienne', 'bethrothed', 'rosser', 'chokingly', 'substance', 'plaira', 'nonnes', 'quimper', 'christ', 'johannot', 'knowingly', 'gbnewby@pglaf', 'ashtophet', 'darrel', 'crumblings', 'sensationalists', 'bierce', 'marcus', 'borlsover', 'injustice', 'noiseless', 'defiantly', 'noiselessly', 'belchest', 'hainburg', 'subliminal', 'le', 'mysticism', 'gai', 'elizabeth', 'ashley', 'encouragingly', 'gutenberg', 'theben', 'twasn', 'doré', 'whisperings', 'maupin', 'iv', 'http', 'biribi', 'satan', 'théophile', 'olivia', 'patterings', 'bon', 'tempestuously', 'fundraising', 'martha', 'jubilation', 'mediterranean', 'chevaliers', 'transcendentalism', 'anglis', 'airedale', 'josephine', 'placidity', 'goudon', 'emma', 'improvised', 'gesticulating', 'theresa', 'uttermost', 'unconquerable', 'fischeramend', 'vous', 'shadeless', 'trouvé', 'ceaseless', 'desecrator', 'sanctus', 'plougat', 'benighted', 'gran', 'vanessa', 'stamford', 'hungarians', 'yves', 'sancher', 'lelocard', 'dieu', 'mary', 'jove', 'thenceforward', 'd', 'unhesitatingly', 'll', 'harow', 'mantelpiece', 'lamplight', 'saville', '\\ufeffthe', 'wasn', 'conformation', 'pressburg', 'supernaturalism', 'embroidery', 'max', 'paroisse', 'cadaverous', 'indian', 'waistcoats', 'sainte', 'democritus', 'soisic', 'môme', 'mahmoud', 'falteringly', 'clo', 'untouched', 'imaginings', 'unknowable', 'unforgotten', 'york', 'englishman', 'idolator', 'brittany', 'daniel', 'herbert', 'fontaine', 'co', 'thursday', 'morbihan', 'eastbourne', 'arthur', 'mcbride', 'th', 'bleecker', 'hoffman', 'etc', 'tm', 'skilfully', 'december', 'wouldn', 'devoutest', 'wonderingly', 'revivification', 'bisley', 'unenforceability', 'unproportionably', 'sublimely', 'influenced', 'returneth', 'org', 'johnson', 'believingly', 'saladin', 'sweetbrier', 'teasingly', 'carnuntum', 'countryfolk', 'personified', 'penetrating', 'subsidence', 'january', 'zanoni', 'francisco', 'undeceive', 'e', 'shouldn', 'aloofness', 'andreyev', 'critically', 'gigantically', 'brücke', 'unobserved', 'marie', 'fortin', 'inconsequently', 'delightful', 'admirably', 'asseverated', 'passau', 'sequestration', 'healthily', 'bonum', 'ambrose', 'gobletful', 'lazarus', 'dunbar', 'komorn', 'perseveringly', 'ascii', 'b', 'sidney', 'threadlike', 'brockden', 'searchingly', 'allant', 'sorgue', 'june', 'shopwoman', 'julien', 'unblemished', 'alva', 'aleksandrova', 'inspirest', 'reflectively', 'writhings', 'portin', 'seemest', 'baigné', 'norman', 'athenian', 'coeur', 'bookshelves', 'cracksmen', 'marianne', 'horla', 'enteredst', 'chevalier', 's', 'weren', 'allan', 'stratford', 'lieth', 'poe', 'latin', 'despondently', 'sacristan', 'disapprovingly', 'effulgence', 'frances', 'aime', 'ceaselessly', 'softhearted', 'unaltered', 'fitz', 'belinda', 'gawd', 'appallingly', 'gregory', 'yarmolinsky', 'austria', 'brigham', 'lockwood', 'pertinaciously', 'email', 'flamme', 't', 'grindings', 'rhine', 'ein', 'curseful', 'bayliss', 'levasseur', 'ltd']\n"
     ]
    }
   ],
   "source": [
    "# look for the words not in the word list\n",
    "# counter_not_in_list = 0\n",
    "not_in_recorder = []\n",
    "for word_in_book in book_wordset:\n",
    "    if word_in_book not in list_txt:\n",
    "        not_in_recorder.append(word_in_book)\n",
    "        \n",
    "\n",
    "print(not_in_recorder)\n",
    "# print(len(not_in_recorder))\n"
   ]
  },
  {
   "cell_type": "code",
   "execution_count": 243,
   "metadata": {},
   "outputs": [
    {
     "name": "stdout",
     "output_type": "stream",
     "text": [
      "The number of words not in the word list is  764\n"
     ]
    }
   ],
   "source": [
    "print(\"The number of words not in the word list is \",len(not_in_recorder))"
   ]
  },
  {
   "cell_type": "markdown",
   "metadata": {},
   "source": [
    "#### for checkinig the wrong word, I used a big word list\n",
    "Reference:\n",
    "    https://raw.githubusercontent.com/dwyl/english-words/master/words.txt"
   ]
  },
  {
   "cell_type": "code",
   "execution_count": 248,
   "metadata": {},
   "outputs": [
    {
     "name": "stdout",
     "output_type": "stream",
     "text": [
      "Lab_4-Lianda-Duan-B00852273.ipynb \u001b[34msed_test\u001b[m\u001b[m\r\n",
      "\u001b[34mdir_search_root\u001b[m\u001b[m                   words.txt\r\n",
      "ghost_story.txt                   words_english_check.txt\r\n"
     ]
    }
   ],
   "source": [
    "!ls"
   ]
  },
  {
   "cell_type": "code",
   "execution_count": 251,
   "metadata": {},
   "outputs": [
    {
     "name": "stdout",
     "output_type": "stream",
     "text": [
      "466552\n"
     ]
    }
   ],
   "source": [
    "#read the word list\n",
    "words_english_check = open(\"words_english_check.txt\")\n",
    "words_english_check = words_english_check.read()\n",
    "# to lower_case\n",
    "words_english_check = words_english_check.lower()\n",
    "\n",
    "\n",
    "list_words_english_check = words_english_check.split('\\n')\n",
    "print(len(list_words_english_check))"
   ]
  },
  {
   "cell_type": "code",
   "execution_count": 253,
   "metadata": {},
   "outputs": [
    {
     "name": "stdout",
     "output_type": "stream",
     "text": [
      "['xv', 'mustn', 'château', 'weehawken', 'sorque', 'suis', 'undreds', 'hadn', 'concentratedly', 'myla', 'tellst', 'knowest', 'cléry', 'brightonboro', 'tregunc', 'sunrays', 'ebook', 'hummings', 'écus', 'mortuis', 'promener', 'lookest', 'crunchings', 'kerfol', 'hitchin', 'chante', 'www', 'kerselec', 'splashings', 'handyside', 'gloatest', 'dirs', 'shrillnesses', 'simpkin', 'borlsovers', 'lancons', 'oughtn', 'groix', 'brer', 'fedderson', 'fliegende', 'ebooks', 'hoffmanesque', 'shanter', 'guebers', 'straubing', 'coneal', 'ducatoons', 'phillpotts', 'wienerwald', 'longtemps', 'grossmith', 'bretonne', 'bihan', 'parfit', 'abbé', 'jamais', 'cæsar', 'sümpfe', 'pesth', 'nourjahad', 'foamings', 'quimperle', 'breathings', 'trevanion', 'merrit', 'poszóny', 'rossignol', 'merchantibility', 'bannalec', 'cicconetti', 'apatura', 'neuville', 'curé', 'trevec', 'adsit', 'séance', 'gargrave', 'glanvill', 'cupwise', 'rire', 'breathin', 'wraithed', 'darest', 'trevecs', 'whroom', 'dislikest', 'aumont', 'oubliai', 'everleigh', 'pglaf', 'forebore', 'hellow', 'à', 'business@pglaf', 'closser', 'cleomenes', 'donaueschingen', 'sawest', 'petronell', 'pleurer', 'garou', 'verulam', 'hypertext', 'plougastel', 'pennifer', 'où', 'dieth', 'gallienne', 'bethrothed', 'plaira', 'nonnes', 'johannot', 'gbnewby@pglaf', 'ashtophet', 'borlsover', 'belchest', 'hainburg', 'gai', 'theben', 'twasn', 'doré', 'http', 'biribi', 'théophile', 'anglis', 'goudon', 'fischeramend', 'vous', 'trouvé', 'plougat', 'sancher', 'lelocard', 'harow', '\\ufeffthe', 'paroisse', 'soisic', 'môme', 'bleecker', 'devoutest', 'returneth', 'carnuntum', 'brücke', 'passau', 'komorn', 'brockden', 'allant', 'sorgue', 'aleksandrova', 'inspirest', 'writhings', 'portin', 'seemest', 'baigné', 'coeur', 'enteredst', 'lieth', 'gawd', 'yarmolinsky', 'flamme', 'curseful', 'bayliss', 'levasseur']\n",
      "163\n"
     ]
    }
   ],
   "source": [
    "list_might_be_wrong = []\n",
    "for each_not_in in not_in_recorder:\n",
    "    if each_not_in not in list_words_english_check:\n",
    "        list_might_be_wrong.append(each_not_in)\n",
    "        \n",
    "print(list_might_be_wrong)\n",
    "print(len(list_might_be_wrong))"
   ]
  },
  {
   "cell_type": "code",
   "execution_count": 260,
   "metadata": {},
   "outputs": [
    {
     "name": "stdout",
     "output_type": "stream",
     "text": [
      "There are 163 words can be typos or obscure\n"
     ]
    }
   ],
   "source": [
    "print('There are ' +str(len(list_might_be_wrong))+' words can be typos or obscure')"
   ]
  },
  {
   "cell_type": "markdown",
   "metadata": {},
   "source": [
    "# HOMEWORK Q2"
   ]
  },
  {
   "cell_type": "markdown",
   "metadata": {},
   "source": [
    "In a large collection of MP3 files, there may be more than one copy of the same song, \n",
    "\n",
    "stored in different directories or with different file names. \n",
    "\n",
    "The goal of this exercise is to search for duplicates."
   ]
  },
  {
   "cell_type": "code",
   "execution_count": null,
   "metadata": {},
   "outputs": [],
   "source": [
    "# build the function to compare files \n",
    "# import filecmp\n",
    "# filecmp.cmp('file1.txt', 'file1.txt')"
   ]
  },
  {
   "cell_type": "code",
   "execution_count": 298,
   "metadata": {},
   "outputs": [
    {
     "name": "stdout",
     "output_type": "stream",
     "text": [
      "/Users/lianda_duan/Downloads/lab_4_assignment/ghost_story.txt\n",
      "/Users/lianda_duan/Downloads/lab_4_assignment/.DS_Store\n",
      "/Users/lianda_duan/Downloads/lab_4_assignment/sed_test/from.txt\n",
      "/Users/lianda_duan/Downloads/lab_4_assignment/sed_test/to.txt\n",
      "/Users/lianda_duan/Downloads/lab_4_assignment/mp3_dup_test/.DS_Store\n",
      "/Users/lianda_duan/Downloads/lab_4_assignment/mp3_dup_test/f_3-2.mp3\n",
      "/Users/lianda_duan/Downloads/lab_4_assignment/mp3_dup_test/f_1-1.mp3\n",
      "/Users/lianda_duan/Downloads/lab_4_assignment/mp3_dup_test/f_1.mp3\n",
      "/Users/lianda_duan/Downloads/lab_4_assignment/mp3_dup_test/f_4.mp3\n",
      "/Users/lianda_duan/Downloads/lab_4_assignment/mp3_dup_test/f_2-1.mp3\n",
      "/Users/lianda_duan/Downloads/lab_4_assignment/mp3_dup_test/a_deep_dir/f_3-1.mp3\n",
      "/Users/lianda_duan/Downloads/lab_4_assignment/mp3_dup_test/a_deep_dir/f_1-2.mp3\n",
      "/Users/lianda_duan/Downloads/lab_4_assignment/mp3_dup_test/a_deep_dir/f_2.mp3\n",
      "/Users/lianda_duan/Downloads/lab_4_assignment/mp3_dup_test/a_deep_dir/f_4-1.mp3\n",
      "/Users/lianda_duan/Downloads/lab_4_assignment/mp3_dup_test/a_deep_dir/f_4-2.mp3\n",
      "/Users/lianda_duan/Downloads/lab_4_assignment/Lab_4-Lianda-Duan-B00852273.ipynb\n",
      "/Users/lianda_duan/Downloads/lab_4_assignment/words_english_check.txt\n",
      "/Users/lianda_duan/Downloads/lab_4_assignment/.ipynb_checkpoints/Lab_4-Lianda-Duan-B00852273-checkpoint.ipynb\n",
      "/Users/lianda_duan/Downloads/lab_4_assignment/words.txt\n"
     ]
    }
   ],
   "source": [
    "dir_demo = '/Users/lianda_duan/Downloads/lab_4_assignment'\n",
    "import os\n",
    "file_path_list = []\n",
    "def walk(dirname = dir_demo):\n",
    "    for name in os.listdir(dirname):\n",
    "        path = os.path.join(dirname, name)\n",
    "        if os.path.isfile(path):\n",
    "#             print(path)\n",
    "            file_path_list.append(path)\n",
    "        else:\n",
    "            walk(path)\n",
    "            \n",
    "walk()\n",
    "for _ in file_path_list:\n",
    "    print(_)"
   ]
  },
  {
   "cell_type": "code",
   "execution_count": 309,
   "metadata": {},
   "outputs": [
    {
     "name": "stdout",
     "output_type": "stream",
     "text": [
      "/Users/lianda_duan/Downloads/lab_4_assignment/mp3_dup_test/f_3-2.mp3\n",
      "/Users/lianda_duan/Downloads/lab_4_assignment/mp3_dup_test/f_1-1.mp3\n",
      "/Users/lianda_duan/Downloads/lab_4_assignment/mp3_dup_test/f_1.mp3\n",
      "/Users/lianda_duan/Downloads/lab_4_assignment/mp3_dup_test/f_4.mp3\n",
      "/Users/lianda_duan/Downloads/lab_4_assignment/mp3_dup_test/f_2-1.mp3\n",
      "/Users/lianda_duan/Downloads/lab_4_assignment/mp3_dup_test/a_deep_dir/f_3-1.mp3\n",
      "/Users/lianda_duan/Downloads/lab_4_assignment/mp3_dup_test/a_deep_dir/f_1-2.mp3\n",
      "/Users/lianda_duan/Downloads/lab_4_assignment/mp3_dup_test/a_deep_dir/f_2.mp3\n",
      "/Users/lianda_duan/Downloads/lab_4_assignment/mp3_dup_test/a_deep_dir/f_4-1.mp3\n",
      "/Users/lianda_duan/Downloads/lab_4_assignment/mp3_dup_test/a_deep_dir/f_4-2.mp3\n"
     ]
    }
   ],
   "source": [
    "file_path_list = [i  for i in file_path_list if str(i).split(\"/\")[-1].split(\".\")[-1] == 'mp3']\n",
    "for _ in file_path_list:\n",
    "    print(_)"
   ]
  },
  {
   "cell_type": "code",
   "execution_count": 310,
   "metadata": {},
   "outputs": [
    {
     "name": "stdout",
     "output_type": "stream",
     "text": [
      "('f_3-2.mp3', ['f_3-2.mp3', 'f_3-1.mp3']) \n",
      "\n",
      "('f_1-1.mp3', ['f_1-1.mp3', 'f_1.mp3', 'f_1-2.mp3']) \n",
      "\n",
      "('f_1.mp3', ['f_1-1.mp3', 'f_1.mp3', 'f_1-2.mp3']) \n",
      "\n",
      "('f_4.mp3', ['f_4.mp3', 'f_4-1.mp3', 'f_4-2.mp3']) \n",
      "\n",
      "('f_2-1.mp3', ['f_2-1.mp3', 'f_2.mp3']) \n",
      "\n",
      "('f_3-1.mp3', ['f_3-2.mp3', 'f_3-1.mp3']) \n",
      "\n",
      "('f_1-2.mp3', ['f_1-1.mp3', 'f_1.mp3', 'f_1-2.mp3']) \n",
      "\n",
      "('f_2.mp3', ['f_2-1.mp3', 'f_2.mp3']) \n",
      "\n",
      "('f_4-1.mp3', []) \n",
      "\n",
      "('f_4-2.mp3', ['f_4.mp3', 'f_4-1.mp3', 'f_4-2.mp3']) \n",
      "\n"
     ]
    }
   ],
   "source": [
    "#test filecmp.cmp\n",
    "# file_path_list = [i  for i in file_path_list if str(i).split(\"/\")[-1].split(\".\")[-1] == 'mp3']\n",
    "# c_1 = '/Users/lianda_duan/Downloads/lab_4_assignment/mp3_dup_test/a_deep_dir/f_3-1.mp3'\n",
    "# c_2 = '/Users/lianda_duan/Downloads/lab_4_assignment/mp3_dup_test/f_3-2.mp3'\n",
    "# c_3 = '/Users/lianda_duan/Downloads/lab_4_assignment/mp3_dup_test/a_deep_dir/f_4-1.mp3'\n",
    "import filecmp\n",
    "list_check = list(range(len(file_path_list)))\n",
    "# list_check = \n",
    "# [i if i.split(\"/\")[-1]=='mp3' for i in list_check]\n",
    "\n",
    "\n",
    "dup_dic = {}\n",
    "# initialize dic\n",
    "for _ in [_.split(\"/\")[-1] for _ in file_path_list]:\n",
    "    dup_dic[_] = []\n",
    "    \n",
    "\n",
    "for index_file_path_be_compared in list_check:\n",
    "    if index_file_path_be_compared is not len(file_path_list)-2:\n",
    "        for index_file_dest in list_check:\n",
    "            if filecmp.cmp(file_path_list[index_file_path_be_compared], file_path_list[index_file_dest]):\n",
    "                dup_dic[file_path_list[index_file_path_be_compared].split(\"/\")[-1]].append(file_path_list[index_file_dest].split(\"/\")[-1])\n",
    "#                 list_check.pop(index_file_dest)\n",
    "# print(filecmp.cmp(c_1, c_2))\n",
    "# print(filecmp.cmp(c_1, c_3))\n",
    "for _ in dup_dic.items():\n",
    "    print(_,'\\n')\n",
    "# print(dup_dic)"
   ]
  },
  {
   "cell_type": "code",
   "execution_count": 272,
   "metadata": {},
   "outputs": [
    {
     "name": "stdout",
     "output_type": "stream",
     "text": [
      "4\n",
      "[0, 1, 2, 3, 5]\n"
     ]
    }
   ],
   "source": [
    "list_check = list(range(6))\n",
    "print(list_check.pop(4))\n",
    "print(list_check)"
   ]
  },
  {
   "cell_type": "code",
   "execution_count": 308,
   "metadata": {},
   "outputs": [
    {
     "name": "stdout",
     "output_type": "stream",
     "text": [
      "['/Users/lianda_duan/Downloads/lab_4_assignment/mp3_dup_test/f_3-2.mp3', '/Users/lianda_duan/Downloads/lab_4_assignment/mp3_dup_test/f_1-1.mp3', '/Users/lianda_duan/Downloads/lab_4_assignment/mp3_dup_test/f_1.mp3', '/Users/lianda_duan/Downloads/lab_4_assignment/mp3_dup_test/f_4.mp3', '/Users/lianda_duan/Downloads/lab_4_assignment/mp3_dup_test/f_2-1.mp3', '/Users/lianda_duan/Downloads/lab_4_assignment/mp3_dup_test/a_deep_dir/f_3-1.mp3', '/Users/lianda_duan/Downloads/lab_4_assignment/mp3_dup_test/a_deep_dir/f_1-2.mp3', '/Users/lianda_duan/Downloads/lab_4_assignment/mp3_dup_test/a_deep_dir/f_2.mp3', '/Users/lianda_duan/Downloads/lab_4_assignment/mp3_dup_test/a_deep_dir/f_4-1.mp3', '/Users/lianda_duan/Downloads/lab_4_assignment/mp3_dup_test/a_deep_dir/f_4-2.mp3']\n"
     ]
    }
   ],
   "source": [
    "print([i  for i in file_path_list if str(i).split(\"/\")[-1].split(\".\")[-1] == 'mp3'])"
   ]
  },
  {
   "cell_type": "markdown",
   "metadata": {},
   "source": [
    "# Task 1\n",
    "- Write a program that reads a file, \n",
    "\n",
    "- breaks each line into words, \n",
    "\n",
    "- strips whitespace and punctuation from the words,\n",
    "\n",
    "- and converts them to lowercase."
   ]
  },
  {
   "cell_type": "markdown",
   "metadata": {},
   "source": [
    "## Check current dir"
   ]
  },
  {
   "cell_type": "code",
   "execution_count": 11,
   "metadata": {},
   "outputs": [
    {
     "name": "stdout",
     "output_type": "stream",
     "text": [
      "Lab_4-Lianda-Duan-B00852273.ipynb ghost_story.txt\r\n"
     ]
    }
   ],
   "source": [
    "!ls"
   ]
  },
  {
   "cell_type": "markdown",
   "metadata": {},
   "source": [
    "## Read tht Ghost book file and change to lowercase"
   ]
  },
  {
   "cell_type": "code",
   "execution_count": 12,
   "metadata": {},
   "outputs": [],
   "source": [
    "#-*-coding:utf-8-*-\n",
    "#Lianda Duan\n",
    "#B00852273\n",
    "# Open file and get a string of the file word_dal_intro.txt\n",
    "book_name = \"ghost_story.txt\"\n",
    "f_txt = open(book_name)\n",
    "String_txt = f_txt.read()\n",
    "import re\n",
    "#Set stop words\n",
    "filter = ['the', 'a', 'an','and','of','in','The','to','s']\n",
    "# filter = []\n",
    "String_txt = re.sub(\"[\\n\\s+\\.\\!\\/_,$%^*(+\\\"\\')]+|[+——()?【】“”！，。？、\\&~@#￥%……&*:（）]+\\r\",\" \",String_txt)\n",
    "String_txt = String_txt.lower()\n",
    "\n"
   ]
  },
  {
   "cell_type": "markdown",
   "metadata": {},
   "source": [
    "# Task 2:\n",
    "Modify your program from the previous exercise to read the book you downloaded and \n",
    "\n",
    "process the rest of the words as before.\n",
    "\n",
    "- A. Then modify the program to count the total number of words in the book, \n",
    "and the number of times each word is used.\n",
    "- B. print the 20 most frequently-used words in the book.\n",
    "- C. Print the number of different words used in the book\n",
    "\n"
   ]
  },
  {
   "cell_type": "markdown",
   "metadata": {},
   "source": [
    "## - Count the total number of words in the book\n",
    "## - Count the number of times each word is used."
   ]
  },
  {
   "cell_type": "code",
   "execution_count": 181,
   "metadata": {},
   "outputs": [],
   "source": [
    "def most_frequent(string_input):\n",
    "    import string\n",
    "    list_txt = string_input.split(' ')\n",
    "    list_txt = [_.strip(string.punctuation) for _ in list_txt]\n",
    "    dict_count = {}\n",
    "    for _ in list_txt:\n",
    "        if _ not in filter:\n",
    "#         print(_)\n",
    "            dict_count[_] = 0\n",
    "    for _ in list_txt:\n",
    "         if _ not in filter:\n",
    "#         print(_)\n",
    "            dict_count[_] += 1\n",
    "    dict_count_sorted = sorted(dict_count.items(), key=lambda item: item[1],reverse=True)    \n",
    "#     print(dict_count)\n",
    "    return (dict_count,dict_count_sorted)\n",
    "\n",
    "\"\"\"\n",
    "- dictionary_for_word_cloud: a dictionary of words and their frequency in the file.\n",
    "- dict_count_sorted: a List of Tuples, in which the dictionary is sorted. Each tuple is a \"(word, count)\" pair.\n",
    "\"\"\"\n",
    "dictionary_for_word_cloud, dict_count_sorted = most_frequent(String_txt)\n",
    "# most_frequent(String_txt)"
   ]
  },
  {
   "cell_type": "markdown",
   "metadata": {},
   "source": [
    "## - Print the 20 most frequently-used words in the book.\n"
   ]
  },
  {
   "cell_type": "code",
   "execution_count": 182,
   "metadata": {},
   "outputs": [
    {
     "name": "stdout",
     "output_type": "stream",
     "text": [
      "20 most frequently-used words in the book.\n",
      "[('the', 6565), ('and', 3309), ('of', 2949), ('i', 2587), ('to', 2229), ('a', 2148), ('in', 1760), ('it', 1533), ('was', 1406), ('that', 1226), ('he', 1019), ('with', 869), ('my', 741), ('you', 733), ('his', 719), ('had', 714), ('as', 686), ('at', 657), ('for', 652), ('me', 598)]\n"
     ]
    }
   ],
   "source": [
    "list_to_print = dict_count_sorted[0:20]\n",
    "print('20 most frequently-used words in the book.')\n",
    "print(list_to_print)\n",
    "# for _ in range(20):\n",
    "#     print()"
   ]
  },
  {
   "cell_type": "markdown",
   "metadata": {},
   "source": [
    "## -Print the number of different words used in the book"
   ]
  },
  {
   "cell_type": "code",
   "execution_count": 183,
   "metadata": {},
   "outputs": [
    {
     "name": "stdout",
     "output_type": "stream",
     "text": [
      "9476\n"
     ]
    }
   ],
   "source": [
    "print(len(dict_count_sorted))"
   ]
  },
  {
   "cell_type": "markdown",
   "metadata": {},
   "source": [
    "# Task 3\n",
    "The “rank” of a word is its position in a list of words sorted by frequency:\n",
    "the most common word has rank 1,\n",
    "the second most common has rank 2, etc."
   ]
  },
  {
   "cell_type": "markdown",
   "metadata": {},
   "source": [
    "Given that $f = c\\times s^{-r}$"
   ]
  },
  {
   "cell_type": "code",
   "execution_count": 189,
   "metadata": {},
   "outputs": [
    {
     "name": "stdout",
     "output_type": "stream",
     "text": [
      "1000 most frequently-used words in the book.\n",
      "[('the', 6565), ('and', 3309), ('of', 2949), ('i', 2587), ('to', 2229), ('a', 2148), ('in', 1760), ('it', 1533), ('was', 1406), ('that', 1226), ('he', 1019), ('with', 869), ('my', 741), ('you', 733), ('his', 719), ('had', 714), ('as', 686), ('at', 657), ('for', 652), ('me', 598), ('on', 591), ('but', 578), ('not', 517), ('her', 516), ('s', 512), ('said', 507), ('by', 462), ('she', 430), ('there', 426), ('is', 416), ('from', 413), ('all', 409), ('we', 394), ('they', 389), ('have', 380), ('this', 360), ('were', 339), ('be', 338), ('him', 325), ('so', 325), ('t', 318), ('no', 311), ('what', 307), ('out', 296), ('one', 286), ('up', 280), ('which', 278), ('or', 276), ('an', 270), ('then', 269), ('them', 260), ('like', 240), ('into', 237), ('when', 233), ('if', 222), ('about', 220), ('who', 212), ('are', 212), ('more', 205), ('its', 203), ('their', 192), ('could', 190), ('been', 189), ('over', 184), ('now', 179), ('our', 175), ('do', 173), ('know', 172), ('down', 165), ('would', 163), ('before', 162), ('than', 161), ('some', 160), ('time', 159), ('upon', 159), ('see', 156), ('did', 156), ('little', 152), ('us', 151), ('eyes', 151), ('night', 151), ('came', 149), ('very', 148), ('old', 144), ('man', 140), ('room', 138), ('other', 136), ('can', 136), ('after', 136), ('again', 134), ('too', 133), ('how', 132), ('back', 126), ('come', 125), ('where', 124), ('any', 123), ('will', 121), ('must', 121), ('something', 121), ('went', 121), ('still', 120), ('only', 119), ('face', 119), ('long', 116), ('yet', 116), ('wind', 115), ('saw', 115), ('looked', 113), ('through', 112), ('made', 112), ('don', 112), ('well', 110), ('thought', 110), ('here', 109), ('seemed', 109), ('two', 109), ('first', 107), ('your', 106), ('look', 106), ('door', 106), ('never', 104), ('hand', 104), ('eustace', 104), ('life', 102), ('away', 100), ('sir', 100), ('way', 99), ('great', 98), ('gutenberg', 97), ('day', 97), ('such', 96), ('has', 96), ('though', 95), ('those', 95), ('lazarus', 95), ('black', 95), ('light', 94), ('death', 92), ('think', 92), ('thing', 89), ('head', 89), ('lys', 89), ('project', 88), ('under', 86), ('work', 84), ('once', 83), ('these', 83), ('voice', 82), ('just', 81), ('go', 80), ('heard', 80), ('myself', 80), ('even', 79), ('saunders', 79), ('found', 78), ('ll', 78), ('place', 78), ('house', 78), ('moment', 77), ('tell', 77), ('last', 75), ('d', 75), ('much', 75), ('mrs', 75), ('should', 75), ('felt', 75), ('hands', 75), ('turned', 73), ('stood', 73), ('dead', 72), ('another', 72), ('might', 70), ('without', 70), ('across', 69), ('took', 69), ('lay', 69), ('nothing', 69), ('asked', 69), ('things', 68), ('left', 68), ('men', 68), ('le', 67), ('got', 67), ('sound', 66), ('get', 65), ('own', 65), ('going', 65), ('ve', 65), ('off', 64), ('good', 64), ('make', 63), ('river', 63), ('knew', 63), ('say', 63), ('almost', 62), ('may', 61), ('against', 61), ('world', 60), ('while', 60), ('fire', 60), ('suddenly', 59), ('gave', 59), ('yes', 59), ('sat', 59), ('bihan', 59), ('new', 58), ('oh', 58), ('why', 58), ('borlsover', 58), ('right', 57), ('each', 57), ('words', 57), ('tm', 57), ('ever', 56), ('same', 56), ('together', 55), ('willows', 55), ('sun', 55), ('three', 55), ('white', 54), ('shall', 54), ('caroline', 54), ('most', 53), ('anything', 53), ('mind', 53), ('st', 53), ('many', 52), ('thou', 52), ('far', 51), ('hear', 51), ('body', 51), ('half', 51), ('water', 51), ('fortin', 51), ('because', 50), ('heart', 50), ('dark', 50), ('began', 50), ('looking', 50), ('seen', 49), ('being', 49), ('horror', 49), ('let', 49), ('always', 48), ('between', 48), ('bed', 48), ('course', 47), ('set', 47), ('open', 47), ('am', 47), ('brigham', 47), ('told', 46), ('himself', 46), ('years', 46), ('human', 46), ('enough', 46), ('cold', 46), ('strange', 45), ('itself', 45), ('fear', 45), ('tent', 45), ('quite', 45), ('round', 45), ('everything', 45), ('didn', 45), ('theresa', 45), ('shadow', 44), ('m', 44), ('perhaps', 44), ('days', 44), ('among', 44), ('feet', 44), ('close', 44), ('few', 43), ('sand', 43), ('every', 43), ('god', 43), ('window', 43), ('people', 42), ('side', 42), ('around', 42), ('priest', 42), ('along', 42), ('full', 42), ('fell', 42), ('near', 42), ('rebecca', 42), ('read', 41), ('both', 41), ('poor', 41), ('take', 41), ('living', 41), ('sort', 41), ('gone', 41), ('give', 40), ('since', 40), ('air', 40), ('find', 40), ('passed', 40), ('kept', 40), ('darkness', 40), ('re', 39), ('end', 39), ('heavy', 39), ('alone', 39), ('mayor', 39), ('mr', 38), ('better', 38), ('terror', 38), ('believe', 38), ('morning', 38), ('within', 38), ('feeling', 38), ('silence', 38), ('replied', 38), ('henry', 38), ('deep', 37), ('second', 37), ('allan', 37), ('suppose', 37), ('already', 37), ('put', 37), ('wife', 36), ('whole', 36), ('sea', 36), ('nor', 36), ('remember', 36), ('grew', 36), ('ghost', 35), ('love', 35), ('book', 35), ('beauty', 35), ('awful', 35), ('feel', 35), ('island', 35), ('speak', 34), ('others', 34), ('table', 34), ('skull', 34), ('wall', 34), ('sky', 34), ('arms', 34), ('mean', 34), ('works', 34), ('blue', 33), ('themselves', 33), ('sense', 33), ('evening', 33), ('slowly', 33), ('opened', 33), ('spoke', 33), ('hair', 33), ('next', 33), ('max', 33), ('pit', 33), ('ghosts', 32), ('keep', 32), ('coming', 32), ('red', 32), ('held', 32), ('became', 32), ('rose', 32), ('answered', 32), ('floor', 32), ('e', 31), ('ligeia', 31), ('dog', 31), ('kind', 31), ('above', 31), ('cried', 31), ('hard', 30), ('longer', 30), ('known', 30), ('woman', 30), ('fingers', 30), ('terrible', 30), ('low', 30), ('moving', 30), ('until', 30), ('swede', 30), ('moved', 30), ('point', 30), ('called', 30), ('toward', 30), ('dear', 30), ('gildas', 30), ('cannot', 29), ('part', 29), ('indeed', 29), ('rather', 29), ('sight', 29), ('bushes', 29), ('soul', 29), ('watching', 29), ('having', 29), ('durand', 29), ('lips', 29), ('hammond', 29), ('answer', 28), ('power', 28), ('strength', 28), ('o', 28), ('word', 28), ('high', 28), ('canoe', 28), ('reached', 28), ('hour', 28), ('corner', 28), ('leave', 28), ('behind', 28), ('friend', 28), ('creature', 28), ('however', 28), ('standing', 28), ('remained', 28), ('help', 28), ('use', 27), ('english', 27), ('story', 27), ('grave', 27), ('till', 27), ('caught', 27), ('mine', 27), ('young', 27), ('electronic', 27), ('outside', 26), ('expression', 26), ('lived', 26), ('brought', 26), ('soon', 26), ('entered', 26), ('followed', 26), ('hold', 26), ('done', 26), ('girl', 26), ('foundation', 26), ('small', 25), ('study', 25), ('wish', 25), ('invisible', 25), ('beyond', 25), ('beside', 25), ('somehow', 25), ('during', 25), ('soft', 25), ('gray', 25), ('yellow', 25), ('boat', 25), ('laughed', 25), ('talk', 25), ('sitting', 25), ('thus', 25), ('also', 25), ('lamp', 25), ('king', 25), ('state', 24), ('foot', 24), ('started', 24), ('companion', 24), ('utterly', 24), ('filled', 24), ('sleep', 24), ('cry', 24), ('lost', 24), ('glance', 24), ('chair', 24), ('father', 24), ('glass', 24), ('adrian', 24), ('uncle', 24), ('terms', 23), ('added', 23), ('writing', 23), ('couldn', 23), ('blood', 23), ('shadows', 23), ('whom', 23), ('large', 23), ('turn', 23), ('sudden', 23), ('neither', 23), ('length', 23), ('name', 23), ('closed', 23), ('certain', 23), ('four', 23), ('want', 23), ('box', 23), ('gold', 23), ('monsieur', 23), ('supernatural', 22), ('spirit', 22), ('haunted', 22), ('curious', 22), ('fact', 22), ('form', 22), ('de', 22), ('whose', 22), ('arm', 22), ('orchard', 22)]\n"
     ]
    }
   ],
   "source": [
    "list_to_plot = dict_count_sorted[0:500]\n",
    "print('1000 most frequently-used words in the book.')\n",
    "# print(list_to_plot)\n",
    "count_list = [_[1] for _ in list_to_plot]\n"
   ]
  },
  {
   "cell_type": "markdown",
   "metadata": {},
   "source": [
    "if you plot log f versus log r, you should get a straight line with slope −s and intercept log c."
   ]
  },
  {
   "cell_type": "code",
   "execution_count": 193,
   "metadata": {},
   "outputs": [
    {
     "data": {
      "image/png": "[encoded data removed]",
      "text/plain": [
       "<Figure size 432x288 with 1 Axes>"
      ]
     },
     "metadata": {
      "needs_background": "light"
     },
     "output_type": "display_data"
    }
   ],
   "source": [
    "from math import log\n",
    "\n",
    "\n",
    "# def get_log_f(c=1,s=1,r):\n",
    "#     init_list = []\n",
    "#     for _ in r:\n",
    "#         init_list.append(log(c)-s*log(_))\n",
    "#     return init_list\n",
    "\n",
    "\n",
    "def get_f(r,c=1000,s=0.87):\n",
    "    re = []\n",
    "    for _ in r:\n",
    "        re.append(c*pow(_,-s))\n",
    "    return re\n",
    "r = list(range(1,501))\n",
    "f_plot = get_f(r)\n",
    "# f_from_txt = [x for _[]]\n",
    "import matplotlib.pyplot as plt\n",
    "plt.clf()\n",
    "plt.xscale('log') \n",
    "plt.yscale('log') \n",
    "plt.title('graph') \n",
    "plt.xlabel('rank') \n",
    "plt.ylabel('log(f)') \n",
    "plt.grid()\n",
    "plt.plot(r, f_plot)\n",
    "# plt.legend('')\n",
    "plt.plot(r, count_list)\n",
    "plt.show()"
   ]
  },
  {
   "cell_type": "code",
   "execution_count": 188,
   "metadata": {},
   "outputs": [
    {
     "name": "stdout",
     "output_type": "stream",
     "text": [
      "20\n"
     ]
    }
   ],
   "source": [
    "print(len(count_list))"
   ]
  },
  {
   "cell_type": "code",
   "execution_count": 194,
   "metadata": {},
   "outputs": [
    {
     "name": "stdout",
     "output_type": "stream",
     "text": [
      "eatimate s = 0.87\n"
     ]
    }
   ],
   "source": [
    "print(\"eatimate s = \"+str(0.87))"
   ]
  },
  {
   "cell_type": "markdown",
   "metadata": {},
   "source": [
    "# Task 4"
   ]
  },
  {
   "cell_type": "code",
   "execution_count": 314,
   "metadata": {},
   "outputs": [],
   "source": [
    "import os\n",
    "# help(os)"
   ]
  },
  {
   "cell_type": "code",
   "execution_count": 85,
   "metadata": {},
   "outputs": [
    {
     "name": "stdout",
     "output_type": "stream",
     "text": [
      "/Users/lianda_duan/Downloads/lab_4_assignment\r\n"
     ]
    }
   ],
   "source": [
    "!pwd"
   ]
  },
  {
   "cell_type": "code",
   "execution_count": 87,
   "metadata": {},
   "outputs": [
    {
     "name": "stdout",
     "output_type": "stream",
     "text": [
      "/Users/lianda_duan/Downloads/lab_4_assignment/ghost_story.txt\n",
      "/Users/lianda_duan/Downloads/lab_4_assignment/.DS_Store\n",
      "/Users/lianda_duan/Downloads/lab_4_assignment/Lab_4-Lianda-Duan-B00852273.ipynb\n",
      "/Users/lianda_duan/Downloads/lab_4_assignment/.ipynb_checkpoints/Lab_4-Lianda-Duan-B00852273-checkpoint.ipynb\n"
     ]
    }
   ],
   "source": [
    "dir_demo = '/Users/lianda_duan/Downloads/lab_4_assignment'\n",
    "import os\n",
    "def walk(dirname = dir_demo):\n",
    "    for name in os.listdir(dirname):\n",
    "        path = os.path.join(dirname, name)\n",
    "        if os.path.isfile(path):\n",
    "            print(path)\n",
    "        else:\n",
    "            walk(path)\n",
    "            \n",
    "walk()"
   ]
  },
  {
   "cell_type": "markdown",
   "metadata": {},
   "source": [
    "# Task 5"
   ]
  },
  {
   "cell_type": "code",
   "execution_count": 105,
   "metadata": {},
   "outputs": [
    {
     "name": "stdout",
     "output_type": "stream",
     "text": [
      "Lab_4-Lianda-Duan-B00852273.ipynb ghost_story.txt\r\n",
      "\u001b[34mdir_search_root\u001b[m\u001b[m\r\n"
     ]
    }
   ],
   "source": [
    "!ls"
   ]
  },
  {
   "cell_type": "code",
   "execution_count": 315,
   "metadata": {},
   "outputs": [],
   "source": [
    "# help(open)"
   ]
  },
  {
   "cell_type": "markdown",
   "metadata": {},
   "source": [
    "If an error occurs while opening, reading, writing, or closing files, \n",
    "\n",
    "your program should catch the exception,\n",
    "\n",
    "print an error message, and exit."
   ]
  },
  {
   "cell_type": "code",
   "execution_count": 118,
   "metadata": {},
   "outputs": [
    {
     "name": "stdout",
     "output_type": "stream",
     "text": [
      "The content in from.txt file.\r\n"
     ]
    }
   ],
   "source": [
    "!cat /Users/lianda_duan/Downloads/lab_4_assignment/sed_test/from.txt\n",
    "# !pwd"
   ]
  },
  {
   "cell_type": "code",
   "execution_count": 119,
   "metadata": {},
   "outputs": [
    {
     "name": "stdout",
     "output_type": "stream",
     "text": [
      "Here is the to.txt file.\r\n"
     ]
    }
   ],
   "source": [
    "!cat /Users/lianda_duan/Downloads/lab_4_assignment/sed_test/to.txt"
   ]
  },
  {
   "cell_type": "code",
   "execution_count": 124,
   "metadata": {},
   "outputs": [],
   "source": [
    "dir_current = '/Users/lianda_duan/Downloads/lab_4_assignment/sed_test/'\n",
    "file_from = 'from.txt'\n",
    "file_to = 'to.txt'\n",
    "f_from_dir = dir_current+file_from\n",
    "f_to_dir = dir_current+file_to\n",
    "\n",
    "def sed(filename_1,filename_2):\n",
    "    try:\n",
    "        content_file_from = open(filename_1,'r')\n",
    "        content_file_to = open(filename_2,'w')\n",
    "        for each_line_from in content_file_from:\n",
    "            content_file_to.write(each_line_from)\n",
    "        content_file_from.close()\n",
    "        content_file_to.close\n",
    "    except:\n",
    "        print('An error occurs while opening, reading, writing, or closing files.')\n",
    "    \n",
    "\n",
    "sed(f_from_dir,f_to_dir)"
   ]
  },
  {
   "cell_type": "code",
   "execution_count": 125,
   "metadata": {},
   "outputs": [
    {
     "name": "stdout",
     "output_type": "stream",
     "text": [
      "The content in from.txt file.\r\n"
     ]
    }
   ],
   "source": [
    "!cat /Users/lianda_duan/Downloads/lab_4_assignment/sed_test/from.txt"
   ]
  },
  {
   "cell_type": "code",
   "execution_count": 126,
   "metadata": {},
   "outputs": [
    {
     "name": "stdout",
     "output_type": "stream",
     "text": [
      "The content in from.txt file.\r\n"
     ]
    }
   ],
   "source": [
    "!cat /Users/lianda_duan/Downloads/lab_4_assignment/sed_test/to.txt"
   ]
  },
  {
   "cell_type": "code",
   "execution_count": 114,
   "metadata": {},
   "outputs": [
    {
     "name": "stdout",
     "output_type": "stream",
     "text": [
      "/Users/lianda_duan/opt/anaconda3/lib/python3.7/site-packages/ipykernel_launcher.py -f /Users/lianda_duan/Library/Jupyter/runtime/kernel-8c74becd-04dd-4374-b47a-b478cddbe471.json\n"
     ]
    }
   ],
   "source": [
    "# import sys\n",
    "# print(*sys.argv)"
   ]
  },
  {
   "cell_type": "code",
   "execution_count": 110,
   "metadata": {},
   "outputs": [],
   "source": [
    "# def open_file_try(file_name,file_dir = None):\n",
    "#     file_dir = file_dir+file_name\n",
    "#     f = None\n",
    "#     try:\n",
    "#         f = open(file_dir, 'r', encoding='utf-8')\n",
    "#         print(f.read())\n",
    "#     except FileNotFoundError:\n",
    "#         print('Can not open the file, file '+file_name+' not exist!')\n",
    "#     except LookupError:\n",
    "#         print('Unknown encoding!!')\n",
    "#     except UnicodeDecodeError:\n",
    "#         print('Error when reading file')\n",
    "#     finally:\n",
    "#         if f:\n",
    "#             f.close()"
   ]
  },
  {
   "cell_type": "markdown",
   "metadata": {},
   "source": [
    "# Additional work- the word cloud"
   ]
  },
  {
   "cell_type": "code",
   "execution_count": null,
   "metadata": {},
   "outputs": [],
   "source": [
    "import matplotlib.pyplot as plt\n",
    "plt.clf()\n",
    "plt.xscale(scale) \n",
    "plt.yscale(scale) \n",
    "plt.title(“title string) \n",
    "plt.xlabel(“label string”) \n",
    "plt.ylabel(“label, string”) \n",
    "plt.plot(x-value, y-value) \n",
    "plt.show()\n"
   ]
  },
  {
   "cell_type": "code",
   "execution_count": 16,
   "metadata": {},
   "outputs": [
    {
     "data": {
      "text/plain": [
       "<matplotlib.image.AxesImage at 0x7fdb60907d10>"
      ]
     },
     "execution_count": 16,
     "metadata": {},
     "output_type": "execute_result"
    },
    {
     "data": {
      "image/png": "[encoded data removed]",
      "text/plain": [
       "<Figure size 432x288 with 1 Axes>"
      ]
     },
     "metadata": {
      "needs_background": "light"
     },
     "output_type": "display_data"
    }
   ],
   "source": [
    "from PIL import Image\n",
    "from wordcloud import WordCloud\n",
    "import matplotlib.pyplot as plt\n",
    "\n",
    "#The higher the frequence, the larger front size the words will be in.\n",
    "\n",
    "wc = WordCloud(background_color=\"black\",width=3000,height=2000, max_words=50,relative_scaling=0.8,normalize_plurals=False).generate_from_frequencies(dictionary_for_word_cloud)\n",
    "plt.imshow(wc)"
   ]
  }
 ],
 "metadata": {
  "kernelspec": {
   "display_name": "Python 3",
   "language": "python",
   "name": "python3"
  },
  "language_info": {
   "codemirror_mode": {
    "name": "ipython",
    "version": 3
   },
   "file_extension": ".py",
   "mimetype": "text/x-python",
   "name": "python",
   "nbconvert_exporter": "python",
   "pygments_lexer": "ipython3",
   "version": "3.7.4"
  }
 },
 "nbformat": 4,
 "nbformat_minor": 2
}
